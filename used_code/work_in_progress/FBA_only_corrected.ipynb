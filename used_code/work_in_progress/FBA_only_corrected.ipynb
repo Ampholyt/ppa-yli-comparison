{
 "cells": [
  {
   "attachments": {},
   "cell_type": "markdown",
   "metadata": {},
   "source": [
    "## This script compares the corrected models with the biomass_C reaction \n",
    "(And iYli21 because it also has the `biomass_C` reaction)\n",
    "\n",
    "\n",
    "Questions:\n",
    "- Does each model have the biomass reaction 'biomass_C'? - Yes\n",
    "- Is this reaction for each model the same?\n",
    "- Does each model have formulas for each metabolite?\n",
    "- How are the prediction results?"
   ]
  },
  {
   "cell_type": "code",
   "execution_count": 3,
   "metadata": {},
   "outputs": [],
   "source": [
    "# imports\n",
    "import cobra\n",
    "import yaml\n",
    "from cobra.flux_analysis import pfba\n",
    "# plotting\n",
    "import seaborn as sns\n",
    "import matplotlib.pyplot as plt\n",
    "import numpy as np\n",
    "\n",
    "import sys # append path\n",
    "\n",
    "sys.path.append('../scripts/')\n",
    "import helperFunction as hf\n",
    "\n",
    "# config\n",
    "config_name = 'model_config'\n",
    "config_path = f'../config/{config_name}.yaml'\n",
    "\n",
    "# load config\n",
    "with open(config_path, 'r') as file:\n",
    "    config = yaml.safe_load(file)"
   ]
  },
  {
   "cell_type": "code",
   "execution_count": 4,
   "metadata": {},
   "outputs": [],
   "source": [
    "## experimental data\n",
    "\n",
    "# # only xu experimental data\n",
    "yli_glucose_uptake = [0.95, 0.33, 0.72, 0.98, 2.09, 0.61, 0.64, 2.46]\n",
    "yli_experimental_growth = [0.08, 0.03, 0.07, 0.1, 0.2, 0.047, 0.048, 0.24]\n"
   ]
  },
  {
   "cell_type": "code",
   "execution_count": 5,
   "metadata": {},
   "outputs": [],
   "source": [
    "## translate corrected model .mat to .xml\n",
    "\n",
    "## load corrected models\n",
    "corr_model_dict = {   # do I need biomass section in the data_dict?\n",
    "    'yli647': config['models']['yli647'], \n",
    "    'iYali4': config['models']['yli4_corr'], \n",
    "    'iYli_2.0': config['models']['yli2.0'], \n",
    "    'iMK735': config['models']['yliMK735'], \n",
    "    'iNL895': config['models']['yliNL895']\n",
    "}\n",
    "iYli21_model = cobra.io.read_sbml_model(config['models']['yli21'])"
   ]
  },
  {
   "cell_type": "code",
   "execution_count": 53,
   "metadata": {},
   "outputs": [],
   "source": [
    "## print the metabolites dict nicely\n",
    "def metabolites_print(model, rxn_id):\n",
    "    \"\"\"Displays the metabolites and their coefficients human readable in the console.\"\"\"\n",
    "    rxn = model.reactions.get_by_id(rxn_id)\n",
    "    print(f'Metabolites for the reaction: {rxn.name} (id: {rxn.id})')\n",
    "    for metabolite, coefficient in rxn.metabolites.items():\n",
    "        print(f'{metabolite.name} ({metabolite.id}): {coefficient}')\n",
    "    return True"
   ]
  },
  {
   "attachments": {},
   "cell_type": "markdown",
   "metadata": {},
   "source": [
    "#### Analysis of Fructose growth (iMK735 and iYli21)"
   ]
  },
  {
   "cell_type": "code",
   "execution_count": 11,
   "metadata": {},
   "outputs": [
    {
     "name": "stderr",
     "output_type": "stream",
     "text": [
      "No objective in listOfObjectives\n",
      "No objective coefficients in model. Unclear what should be optimized\n",
      "No objective in listOfObjectives\n",
      "No objective coefficients in model. Unclear what should be optimized\n",
      "No objective in listOfObjectives\n",
      "No objective coefficients in model. Unclear what should be optimized\n"
     ]
    }
   ],
   "source": [
    "# read model\n",
    "iYli2 = cobra.io.read_sbml_model(corr_model_dict['iYli_2.0'])\n",
    "iMK735 = cobra.io.read_sbml_model(corr_model_dict['iMK735'])\n",
    "iYali4 = cobra.io.read_sbml_model(corr_model_dict['iYali4'])\n"
   ]
  },
  {
   "cell_type": "code",
   "execution_count": 13,
   "metadata": {},
   "outputs": [
    {
     "name": "stdout",
     "output_type": "stream",
     "text": [
      "D Fructose exchange EX_fru(e) (0.0, 1000.0)\n"
     ]
    }
   ],
   "source": [
    "# find fructose reaction\n",
    "with iMK735 as model:\n",
    "    for rxn in model.exchanges:\n",
    "        if 'fructose' in rxn.name.lower(): \n",
    "            print(rxn.name, rxn.id, rxn.bounds) \n",
    "            \n",
    "# iYli2 D-Fructose exchange R1261 (0.0, 1000.0)\n",
    "# iYli21 D-fructose exchange R1065 (0.0, 0.0)\n",
    "# iMK735 D Fructose exchange EX_fru(e) (0.0, 1000.0)\n",
    "\n",
    "# iYali4 D-fructose exchange 1709 (0.0, 0.0)\n"
   ]
  },
  {
   "attachments": {},
   "cell_type": "markdown",
   "metadata": {},
   "source": [
    "### Each model has the biomass reaction 'biomass_C':"
   ]
  },
  {
   "cell_type": "code",
   "execution_count": 54,
   "metadata": {},
   "outputs": [
    {
     "name": "stdout",
     "output_type": "stream",
     "text": [
      "yli647\n",
      "biomass_C biomass yarrowia carbon limiting\n",
      "0.943396927 13BDglcn[c] + 0.567938715 ala_L[c] + 0.055401294 amp[c] + 0.125562993 arg_L[c] + 0.186498253 asn_L[c] + 0.186531036 asp_L[c] + 23.09 atp[c] + 0.868358429 chitin[c] + 0.057210293 cmp[c] + 0.003631558 cys_L[c] + 0.010069587 damp[c] + 0.010436325 dcmp[c] + 0.009226307 dgmp[c] + 0.010353045 dtmp[c] + 0.035250723 ergst[c] + 0.24386559 gln_L[c] + 0.243904342 glu_L[c] + 0.509942819 gly[c] + 0.050870974 gmp[c] + 23.09 h2o[c] + 0.053881088 his_L[c] + 0.090566203 ile_L[c] + 0.194549622 leu_L[c] + 0.275004895 lys_L[c] + 0.235849232 mannan[c] + 0.04423181 met_L[c] + 5.8e-05 pa_SC[c] + 0.000346485 pc_SC[c] + 0.000236765 pe_SC[c] + 0.082570645 phe_L[c] + 0.206371817 pro_L[c] + 3.5e-05 ps_SC[c] + 7.5e-05 ptd1ino_SC[c] + 0.284698809 ser_L[c] + 0.02 so4[c] + 0.210543282 thr_L[c] + 0.006859892 tre[c] + 0.000234034 triglyc_SC[c] + 0.002154449 trp_L[c] + 0.04128234 tyr_L[c] + 0.059363404 ump[c] + 0.17277308 val_L[c] + 0.003029289 zymst[c] --> 23.09 adp[c] + biomass[c] + 23.09 h[c] + 23.09 pi[c]\n"
     ]
    },
    {
     "name": "stderr",
     "output_type": "stream",
     "text": [
      "No objective in listOfObjectives\n",
      "No objective coefficients in model. Unclear what should be optimized\n"
     ]
    },
    {
     "name": "stdout",
     "output_type": "stream",
     "text": [
      "iYali4\n",
      "biomass_C biomass_C\n",
      "0.035251 m1000 + 0.172773 m1008 + 0.943397 m1123 + 0.567939 m114 + 0.243866 m130 + 0.235849 m1324 + 23.09 m141 + 0.059363 m149 + 3.5e-05 m1631 + 0.000234 m1640 + 7.5e-05 m1648 + 0.000237 m1700 + 0.000346 m1701 + 5.8e-05 m1705 + 0.186531 m267 + 0.509943 m272 + 0.00686 m294 + 0.125563 m310 + 0.186498 m319 + 23.09 m32 + 0.003029 m359 + 0.868358 m401 + 0.284699 m441 + 0.003632 m443 + 0.010436 m459 + 0.009226 m465 + 0.243904 m50 + 0.010353 m505 + 0.053881 m615 + 0.044232 m74 + 0.090566 m743 + 0.206372 m765 + 0.210543 m770 + 0.002154 m772 + 0.19455 m775 + 0.275005 m793 + 0.082571 m859 + 0.055401 m86 + 0.01007 m89 + 0.050871 m93 + 0.05721 m95 + 0.02 m964 + 0.041282 m992 --> 23.09 m10 + m1401 + 23.09 m143 + 23.09 m35\n"
     ]
    },
    {
     "name": "stderr",
     "output_type": "stream",
     "text": [
      "No objective in listOfObjectives\n",
      "No objective coefficients in model. Unclear what should be optimized\n"
     ]
    },
    {
     "name": "stdout",
     "output_type": "stream",
     "text": [
      "iYli_2.0\n",
      "biomass_C biomass_C\n",
      "23.09 M00001[c] + 23.09 M00002[c] + 0.055401 M00020[c] + 0.243904 M00025[c] + 0.509943 M00038[c] + 0.567939 M00042[c] + 0.275005 M00048[c] + 0.186531 M00050[c] + 0.05721 M00056[c] + 0.02 M00058[c] + 0.125563 M00061[c] + 0.243866 M00063[c] + 0.284699 M00064[c] + 0.044232 M00072[c] + 0.002154 M00077[c] + 0.082571 M00078[c] + 0.041282 M00081[c] + 0.003632 M00096[c] + 0.059363 M00104[c] + 0.19455 M00122[c] + 0.053881 M00134[c] + 0.050871 M00143[c] + 0.206372 M00146[c] + 0.186498 M00150[c] + 0.000346 M00155[c] + 0.172773 M00180[c] + 0.210543 M00185[c] + 0.010436 M00236[c] + 0.000237 M00342[c] + 0.01007 M00352[c] + 0.009226 M00354[c] + 0.010353 M00356[c] + 0.090566 M00390[c] + 5.8e-05 M00399[c] + 0.000234 M00403[c] + 0.868358 M00434[c] + 0.235849 M00437[c] + 0.943397 M00844[c] + 0.00686 M00927[c] + 7.5e-05 M01014[c] + 0.035251 M01337[c] + 3.5e-05 M01746[c] + 0.003029 M02611[c] --> 23.09 M00008[c] + 23.09 M00009[c] + 23.09 M00079[c] + biomass[e]\n"
     ]
    },
    {
     "name": "stderr",
     "output_type": "stream",
     "text": [
      "No objective in listOfObjectives\n",
      "No objective coefficients in model. Unclear what should be optimized\n"
     ]
    },
    {
     "name": "stdout",
     "output_type": "stream",
     "text": [
      "iMK735\n",
      "biomass_C biomass_C\n",
      "0.943397 13BDglcn[c] + 0.567939 ala_L[c] + 0.055401 amp[c] + 0.125563 arg_L[c] + 0.186498 asn_L[c] + 0.186531 asp_L[c] + 23.09 atp[c] + 0.868358 chitin[c] + 0.05721 cmp[c] + 0.003632 cys_L[c] + 0.01007 damp[c] + 0.010436 dcmp[c] + 0.009226 dgmp[c] + 0.010353 dtmp[c] + 0.035251 ergst[c] + 0.243866 gln_L[c] + 0.243904 glu_L[c] + 0.509943 gly[c] + 0.050871 gmp[c] + 23.09 h2o[c] + 0.053881 his_L[c] + 0.090566 ile_L[c] + 0.19455 leu_L[c] + 0.275005 lys_L[c] + 0.235849 mannan[c] + 0.044232 met_L[c] + 5.8e-05 pa_SC[c] + 0.000346 pc_SC[c] + 0.000237 pe_SC[c] + 0.082571 phe_L[c] + 0.206372 pro_L[c] + 3.5e-05 ps_SC[c] + 7.5e-05 ptd1ino_SC[c] + 0.284699 ser_L[c] + 0.02 so4[c] + 0.210543 thr_L[c] + 0.00686 tre[c] + 0.000234 triglyc_SC[c] + 0.002154 trp_L[c] + 0.041282 tyr_L[c] + 0.059363 ump[c] + 0.172773 val_L[c] + 0.003029 zymst[c] --> 23.09 adp[c] + 23.09 h[c] + 23.09 pi[c]\n"
     ]
    },
    {
     "name": "stderr",
     "output_type": "stream",
     "text": [
      "No objective in listOfObjectives\n",
      "No objective coefficients in model. Unclear what should be optimized\n"
     ]
    },
    {
     "name": "stdout",
     "output_type": "stream",
     "text": [
      "iNL895\n",
      "biomass_C biomass_C\n",
      "0.9434 s_0002 + 7.5e-05 s_0091 + 0.0068599 s_0416 + 0.055401 s_0434 + 23.09 s_0446 + 0.86836 s_0494 + 0.05721 s_0511 + 0.01007 s_0564 + 0.010436 s_0569 + 0.0092263 s_0593 + 0.010353 s_0619 + 0.035251 s_0636 + 0.50994 s_0740 + 0.050871 s_0752 + 0.56794 s_0863 + 0.12556 s_0873 + 0.1865 s_0877 + 0.18653 s_0881 + 0.0036316 s_0889 + 0.2439 s_0899 + 0.24387 s_0907 + 0.053881 s_0911 + 0.090566 s_0920 + 0.19455 s_0925 + 0.275 s_0929 + 0.044232 s_0933 + 0.082571 s_0936 + 0.20637 s_0939 + 0.2847 s_0943 + 0.21054 s_0949 + 0.0021544 s_0952 + 0.041282 s_0955 + 0.17277 s_0960 + 0.23585 s_1011 + 5.8e-05 s_1216 + 3.5e-05 s_1220 + 0.00034649 s_1229 + 0.00023677 s_1234 + 0.02 s_1347 + 0.00023403 s_1399 + 0.059363 s_1417 + 0.0030293 s_1448 --> 23.09 s_0400 + s_0463 + 23.09 s_1207\n"
     ]
    }
   ],
   "source": [
    "for model_name, model_path in corr_model_dict.items():\n",
    "    model = cobra.io.read_sbml_model(model_path)\n",
    "    print(model_name)\n",
    "    for rxn in model.reactions:\n",
    "        if 'biomass_C' in rxn.id:\n",
    "            print(rxn.id, rxn.name)\n",
    "            print(rxn.reaction)"
   ]
  },
  {
   "attachments": {},
   "cell_type": "markdown",
   "metadata": {},
   "source": [
    "#### Check for (non-)growth associated maintenance"
   ]
  },
  {
   "attachments": {},
   "cell_type": "markdown",
   "metadata": {},
   "source": [
    "##### iYli21"
   ]
  },
  {
   "cell_type": "code",
   "execution_count": 104,
   "metadata": {},
   "outputs": [
    {
     "name": "stdout",
     "output_type": "stream",
     "text": [
      "xMAINTENANCE ; Non-growth associated maintenance (NGAM) m141[c] --> m143[c] + m35[c] (7.8625, 1000.0)\n",
      "Non-growth associated maintenance (NGAM), (id: xMAINTENANCE) is active. (Bounds: (7.8625, 1000.0))\n"
     ]
    },
    {
     "data": {
      "text/plain": [
       "'ATP_C10H16N5O13P3 --> ADP_C10H15N5O10P2 + phosphate_H3O4P'"
      ]
     },
     "execution_count": 104,
     "metadata": {},
     "output_type": "execute_result"
    }
   ],
   "source": [
    "# find ATP metabolites and choose cytosolic one -> m141[c] is cytosolic ATP\n",
    "# find all reactions and choose the maintenance\n",
    "for met in iYli21_model.metabolites:\n",
    "    if 'm141[c]' == met.id:\n",
    "        for rxn in met.reactions: # => xMAINTENANCE \n",
    "            if 'xMAINTENANCE' == rxn.id:\n",
    "                print(rxn.id, ';', rxn.name, rxn.reaction, rxn.bounds)\n",
    "                # => m141[c] --> m143[c] + m35[c] (7.8625, 1000.0)\n",
    "\n",
    "maintenance = iYli21_model.reactions.get_by_id('xMAINTENANCE')\n",
    "hf.reactionInformationPrint([maintenance])\n",
    "hf.formulaWithNames(maintenance)"
   ]
  },
  {
   "attachments": {},
   "cell_type": "markdown",
   "metadata": {},
   "source": [
    "##### Using ATP metabolite\n"
   ]
  },
  {
   "cell_type": "code",
   "execution_count": 105,
   "metadata": {},
   "outputs": [
    {
     "name": "stdout",
     "output_type": "stream",
     "text": [
      "yli647\n",
      "atp[c] ATP\n",
      "ATPM ; ATP maintenance requirement\n",
      "atp[c] + h2o[c] --> adp[c] + h[c] + pi[c]\n",
      "(0.0, 1000.0)\n"
     ]
    },
    {
     "name": "stderr",
     "output_type": "stream",
     "text": [
      "No objective in listOfObjectives\n",
      "No objective coefficients in model. Unclear what should be optimized\n"
     ]
    },
    {
     "name": "stdout",
     "output_type": "stream",
     "text": [
      "iYali4\n",
      "m141 ATP[cy]\n",
      "xMAINTENANCE ; Non-growth associated maintenance (NGAM)\n",
      "m141 --> m143 + m35\n",
      "(0.0, 1000.0)\n"
     ]
    },
    {
     "name": "stderr",
     "output_type": "stream",
     "text": [
      "No objective in listOfObjectives\n",
      "No objective coefficients in model. Unclear what should be optimized\n"
     ]
    },
    {
     "name": "stdout",
     "output_type": "stream",
     "text": [
      "iYli_2.0\n",
      "R0048 ; Urea:carbon-dioxide ligase (ADP-forming)\n",
      "R0304 ; ATP:glycerone phosphotransferase\n",
      "R0352 ; 1-phosphatidylinositol 3-kinase, yeast-specific\n",
      "R0570 ; ATP:shikimate 3-phosphotransferase\n",
      "R0295 ; gamma-L-glutamyl-L-cysteine:glycine ligase (ADP-forming)\n",
      "R0042 ; ATP:L-glutamate 5-phosphotransferase\n",
      "R0305 ; ATP:glycerol 3-phosphotransferase\n",
      "R0033 ; ATP:D-glucosamine 6-phosphotransferase\n",
      "R0542 ; ATP phosphohydrolase\n",
      "R0615 ; ATP:cytidine 5'-phosphotransferase\n",
      "R0806 ; ATP:4-methyl-5-(2-hydroxyethyl)-thiazole 2-phosphotransferase\n",
      "R1323 ; ATP:N-acetyl-D-glucosamine 6-phosphotransferase\n",
      "R0369 ; ATP:3-phospho-D-glycerate 1-phosphotransferase\n",
      "R0422 ; L-2-Aminoadipate-6-semialdehyde:NADP+ 6-oxidoreductase\n",
      "R0805 ; ATP:4-amino-5-hydroxymethyl-2-methylpyrimidine 5-phosphotransferase\n",
      "R0457 ; 5-Formyltetrahydrofolate cyclo-ligase (ADP-forming)\n",
      "R1088 ; ADP/ATP transporter, mitochondrial\n",
      "R0379 ; ATP:D-fructose-6-phosphate 1-phosphotransferase\n",
      "R0351 ; phosphatidylinositol 4-kinase, yeast-specific\n",
      "R0486 ; ATP:D-Gluconate 6-phosphotransferase\n",
      "R0448 ; NO NAME\n",
      "R0449 ; ATP:N-ribosylnicotinamide 5'-phosphotransferase\n",
      "R0005 ; L-Glutamate:ammonia ligase (ADP-forming)\n",
      "R0268 ; ATP:D-fructose 6-phosphotransferase\n",
      "R0316 ; ATP:choline phosphotransferase\n",
      "R0371 ; ATP:beta-D-glucose 6-phosphotransferase\n",
      "biomass_C ; biomass_C\n",
      "R0680 ; ATP:riboflavin 5'-phosphotransferase\n",
      "R0259 ; 7,8-dihydropteroate:L-glutamate ligase (ADP-forming)\n",
      "R0271 ; ATP:L-aspartate 4-phosphotransferase\n",
      "R0296 ; L-glutamate:L-cysteine gamma-ligase (ADP-forming)\n",
      "R0554 ; 2-(Formamido)-N1-(5-phosphoribosyl)acetamidine cyclo-ligase (ADP-forming)\n",
      "R0619 ; ATP:uridine 5'-phosphotransferase\n",
      "R0262 ; ATP:D-mannose 6-phosphotransferase\n",
      "R0452 ; Formate:tetrahydrofolate ligase (ADP-forming)\n",
      "R0267 ; ATP:D-fructose-6-phosphate 2-phosphotransferase\n",
      "R0292 ; 5-oxo-L-proline amidohydrolase (ATP-hydrolysing)\n",
      "R0557 ; 5'-Phosphoribosylformylglycinamide:L-glutamine amido-ligase (ADP-forming)\n",
      "R0553 ; 1-(5-Phosphoribosyl)-5-amino-4-carboxyimidazole:L-aspartate ligase (ADP-forming)\n",
      "R0320 ; ATP:ethanolamine O-phosphotransferase\n",
      "R0555 ; 5-Phospho-D-ribosylamine:glycine ligase (ADP-forming)\n",
      "R0516 ; ATP:dADP phosphotransferase\n",
      "R0642 ; ATP:dUMP phosphotransferase\n",
      "R0184 ; ATP:D-galactose 1-phosphotransferase\n",
      "R0514 ; ATP:GDP phosphotransferase\n",
      "R2000 ; R2000\n",
      "R0915 ; ATP:thiamin-phosphate phosphotransferase\n",
      "R0694 ; ATP:sphinganine 1-phosphotransferase\n",
      "R0779 ; Pyruvate:carbon-dioxide ligase (ADP-forming)\n",
      "R0512 ; ATP:dAMP phosphotransferase\n",
      "R0512 ; ATP:dAMP phosphotransferase\n",
      "R0477 ; ATP:pantothenate 4'-phosphotransferase\n",
      "R0280 ; ATP:L-homoserine O-phosphotransferase\n",
      "R0162 ; Acetyl-CoA:carbon-dioxide ligase (ADP-forming)\n",
      "R0760 ; ATP:(R)-5-diphosphomevalonate carboxy-lyase (adding ATP; isopentenyl-diphosphate-forming); ATP:(R)-5-diphosphomevalonate carboxy-lyase (dehydrating)\n",
      "R0766 ; ATP:(R)-mevalonate 5-phosphotransferase\n",
      "R0517 ; ATP:dGDP phosphotransferase\n",
      "R0885 ; 3-Methylcrotonoyl-CoA:carbon-dioxide ligase (ADP-forming)\n",
      "R0511 ; ATP:AMP phosphotransferase\n",
      "R1507 ; ATP:(R)-glycerate 3-phosphotransferase\n",
      "R0666 ; hydrogen-carbonate:L-glutamine amido-ligase (ADP-forming, carbamate-phosphorylating)\n",
      "R0797 ; ATP:pyridoxal 5'-phosphotransferase\n",
      "R0520 ; ATP:dGMP phosphotransferase\n",
      "R1506 ; ATP:D-fructose 1-phosphotransferase\n",
      "R0479 ; ATP:D-xylulose 5-phosphotransferase\n",
      "R0510 ; ATP:adenosine 5'-phosphotransferase\n",
      "R0633 ; ATP:UMP phosphotransferase\n",
      "R0802 ; ATP:thiamine-diphosphate phosphotransferase\n",
      "R0634 ; ATP:CMP phosphotransferase\n",
      "R0355 ; ATP:1-phosphatidyl-1D-myo-inositol-3-phosphate 5-phosphotransferase\n",
      "R0519 ; ATP:GMP phosphotransferase\n",
      "R0635 ; ATP:dCMP phosphotransferase\n",
      "R0664 ; UTP:ammonia ligase (ADP-forming)\n",
      "R0796 ; ATP:pyridoxine 5'-phosphotransferase\n",
      "R0807 ; ATP:4-amino-2-methyl-5-phosphomethylpyrimidine phosphotransferase\n",
      "R0767 ; ATP:(R)-5-phosphomevalonate phosphotransferase\n",
      "R0518 ; ATP:dIDP phosphotransferase\n",
      "R0473 ; ATP:pantothenate 4'-phosphotransferase\n",
      "R0436 ; ATP phosphohydrolase\n",
      "R0472 ; ATP:pantothenate 4'-phosphotransferase\n",
      "R0468 ; ATP:dephospho-CoA 3'-phosphotransferase\n",
      "R0636 ; ATP:UDP phosphotransferase\n",
      "R0665 ; UTP:L-glutamine amido-ligase (ADP-forming)\n",
      "R0687 ; ATP:adenylylsulfate 3'-phosphotransferase\n",
      "R0637 ; ATP:CDP phosphotransferase\n",
      "R0515 ; ATP:IDP phosphotransferase\n",
      "R0258 ; Tetrahydrofolate:L-glutamate gamma-ligase (ADP-forming)\n",
      "R0640 ; ATP:dUDP phosphotransferase\n",
      "R0638 ; ATP:dTDP phosphotransferase\n",
      "R0790 ; ATP:pyridoxal 5'-phosphotransferase\n",
      "R0354 ; phosphatidylinositol-4-phosphate 5-kinase, yeast-specfic\n",
      "R0641 ; ATP:dTMP phosphotransferase\n",
      "R1540 ; ATP:NAD+ 2'-phosphotransferase\n",
      "R1540 ; ATP:NAD+ 2'-phosphotransferase\n",
      "newBiom ; newBiom\n",
      "R0639 ; ATP:dCDP phosphotransferase\n",
      "R0481 ; ATP:D-ribose 5-phosphotransferase\n",
      "R0359 ; ATP:oxaloacetate carboxy-lyase (transphosphorylating;phosphoenolpyruvate-forming)\n"
     ]
    },
    {
     "name": "stderr",
     "output_type": "stream",
     "text": [
      "No objective in listOfObjectives\n",
      "No objective coefficients in model. Unclear what should be optimized\n"
     ]
    },
    {
     "name": "stdout",
     "output_type": "stream",
     "text": [
      "iMK735\n",
      "atp[c] ATP\n",
      "ATPM ; ATP maintenance requirement\n",
      "atp[c] + h2o[c] --> adp[c] + h[c] + pi[c]\n",
      "(1.0, 1.0)\n"
     ]
    },
    {
     "name": "stderr",
     "output_type": "stream",
     "text": [
      "No objective in listOfObjectives\n",
      "No objective coefficients in model. Unclear what should be optimized\n"
     ]
    },
    {
     "name": "stdout",
     "output_type": "stream",
     "text": [
      "iNL895\n"
     ]
    }
   ],
   "source": [
    "for model_name, model_path in corr_model_dict.items():\n",
    "    model = cobra.io.read_sbml_model(model_path)\n",
    "    print(model_name)\n",
    "\n",
    "    for met in model.metabolites:\n",
    "        if 'ATP' in met.name:\n",
    "            for rxn in met.reactions:\n",
    "                if 'main' in rxn.id or 'main' in rxn.name:\n",
    "                    print(met.id, met.name)\n",
    "                    print(rxn.id, ';', rxn.name)\n",
    "                    print(rxn.reaction)\n",
    "                    print(rxn.bounds)\n",
    "\n",
    "        if 'iYli_2.0' == model_name: # used to find ATP maintenance reaction: found \"ATP phosphohydrolase\" id: R0542\n",
    "            if 'M00002[c]' == met.id:\n",
    "                for rxn in met.reactions:\n",
    "                    for reactant in rxn.reactants:\n",
    "                        if 'ATP' in reactant.name:\n",
    "                            for product in rxn.products:\n",
    "                                if 'ADP' in product.name:\n",
    "                                    print(rxn.id, ';', rxn.name)\n",
    "        \n",
    "        # if 'iNL895' == model_name: # found nothing\n",
    "        #     if 's_0446' == met.id: # s_0446 ATP[cy] \n",
    "        #         for rxn in met.reactions:\n",
    "        #             print(rxn.id, ';', rxn.name)\n",
    "\n",
    "# iYli21: Non-growth associated maintenance (NGAM), (id: xMAINTENANCE): m141[c] --> m143[c] + m35[c] (Bounds: (7.8625, 1000.0))\n",
    "# yli647: ATP maintenance: id: ATPM: atp[c] + h2o[c] --> adp[c] + h[c] + pi[c] bounds: (0.0, 1000.0)\n",
    "# iYali4: ATP maintenance: id: xMAINTENANCE: m141 --> m143 + m35 bounds: (0.0, 1000.0)\n",
    "# iYli_2.0: ATP phosphohydrolase: id: R0542: (Bounds: (7.8625, 1000.0))\n",
    "# iMK735: ATP maintenance: id: ATPM: atp[c] + h2o[c] --> adp[c] + h[c] + pi[c] bounds: (1.0, 1.0)\n",
    "# iNL895: nothing found\n",
    "\n"
   ]
  },
  {
   "cell_type": "code",
   "execution_count": 95,
   "metadata": {},
   "outputs": [
    {
     "name": "stderr",
     "output_type": "stream",
     "text": [
      "No objective in listOfObjectives\n",
      "No objective coefficients in model. Unclear what should be optimized\n"
     ]
    },
    {
     "name": "stdout",
     "output_type": "stream",
     "text": [
      "ATP phosphohydrolase, (id: R0436) is active. (Bounds: (0.0, 1000.0))\n"
     ]
    },
    {
     "name": "stderr",
     "output_type": "stream",
     "text": [
      "No objective in listOfObjectives\n",
      "No objective coefficients in model. Unclear what should be optimized\n"
     ]
    },
    {
     "name": "stdout",
     "output_type": "stream",
     "text": [
      "ATP diphosphohydrolase, (id: r_0244) is active. (Bounds: (0.0, 1000.0))\n"
     ]
    },
    {
     "data": {
      "text/plain": [
       "'ATP[cy] --> AMP[cy] + 2.0 phosphate[cy]'"
      ]
     },
     "execution_count": 95,
     "metadata": {},
     "output_type": "execute_result"
    }
   ],
   "source": [
    "\n",
    "# ### load iYli_2.0\n",
    "# ID_OF_INTEREST = 'R0448' # NO NAME\n",
    "# ID_OF_INTEREST = 'R2000' # R2000 name and id\n",
    "# ID_OF_INTEREST = 'R0542' # ATP phosphohydrolase (Bounds: (7.8625, 1000.0))\n",
    "ID_OF_INTEREST = 'R0436' # ATP phosphohydrolase (Bounds: (0.0, 1000.0))\n",
    "iYli_20 = cobra.io.read_sbml_model(corr_model_dict['iYli_2.0'])\n",
    "rxnasdf = iYli_20.reactions.get_by_id(ID_OF_INTEREST)\n",
    "hf.reactionInformationPrint([rxnasdf])\n",
    "hf.formulaWithNames(rxnasdf)\n",
    "\n",
    "# # load iNL895\n",
    "ID_OF_INTEREST = 'r_0244' # ATP diphosphohydrolase (Bounds: (0.0, 1000.0))\n",
    "iNL895 = cobra.io.read_sbml_model(corr_model_dict['iNL895'])\n",
    "rxnasdf = iNL895.reactions.get_by_id(ID_OF_INTEREST)\n",
    "hf.reactionInformationPrint([rxnasdf])\n",
    "hf.formulaWithNames(rxnasdf)"
   ]
  },
  {
   "cell_type": "code",
   "execution_count": 48,
   "metadata": {},
   "outputs": [
    {
     "name": "stderr",
     "output_type": "stream",
     "text": [
      "No objective in listOfObjectives\n",
      "No objective coefficients in model. Unclear what should be optimized\n"
     ]
    },
    {
     "data": {
      "text/html": [
       "\n",
       "        <table>\n",
       "            <tr>\n",
       "                <td><strong>Reaction identifier</strong></td><td>xMAINTENANCE</td>\n",
       "            </tr><tr>\n",
       "                <td><strong>Name</strong></td><td>Non-growth associated maintenance (NGAM)</td>\n",
       "            </tr><tr>\n",
       "                <td><strong>Memory address</strong></td>\n",
       "                <td>0x2a75e01c0</td>\n",
       "            </tr><tr>\n",
       "                <td><strong>Stoichiometry</strong></td>\n",
       "                <td>\n",
       "                    <p style='text-align:right'>m141 --> m143 + m35</p>\n",
       "                    <p style='text-align:right'>ATP[cy] --> ADP[cy] + phosphate[cy]</p>\n",
       "                </td>\n",
       "            </tr><tr>\n",
       "                <td><strong>GPR</strong></td><td></td>\n",
       "            </tr><tr>\n",
       "                <td><strong>Lower bound</strong></td><td>0.0</td>\n",
       "            </tr><tr>\n",
       "                <td><strong>Upper bound</strong></td><td>1000.0</td>\n",
       "            </tr>\n",
       "        </table>\n",
       "        "
      ],
      "text/plain": [
       "<Reaction xMAINTENANCE at 0x2a75e01c0>"
      ]
     },
     "execution_count": 48,
     "metadata": {},
     "output_type": "execute_result"
    }
   ],
   "source": [
    "# iYali4 = cobra.io.read_sbml_model(corr_model_dict['iYali4'])\n",
    "# # Find Non-growth associated maintenance\n",
    "# for model_name, model_path in corr_model_dict.items():\n",
    "#     print(model_name)\n",
    "#     model = cobra.io.read_sbml_model(model_path)\n",
    "#     for rxn in model.reactions:\n",
    "#         if 'mainten' in rxn.name:\n",
    "#             print(rxn.id, rxn.name)\n",
    "#             print(rxn.reaction)\n",
    "\n",
    "# xMAINTENANCE = iYali4.reactions.get_by_id('xMAINTENANCE')\n",
    "# xMAINTENANCE\n",
    "\n",
    "# yli647\n",
    "# ATPM ATP maintenance requirement\n",
    "# atp[c] + h2o[c] --> adp[c] + h[c] + pi[c]\n",
    "# iYali4\n",
    "# xMAINTENANCE Non-growth associated maintenance (NGAM)\n",
    "# m141 --> m143 + m35\n",
    "# iYli_2.0 => no maintenance reaction\n",
    "# iMK735\n",
    "# ATPM ATP maintenance requirement\n",
    "# atp[c] + h2o[c] --> adp[c] + h[c] + pi[c]\n",
    "# iNL895 => no maintenance reaction\n",
    "# yli647 = cobra.io.read_sbml_model(corr_model_dict['yli647'])\n",
    "# atp_maintenance = yli647.reactions.get_by_id('ATPM')\n",
    "# atp_maintenance # bounds: (0,1000)\n",
    "# iYali4 = cobra.io.read_sbml_model(corr_model_dict['iYali4'])\n",
    "# xMAINTENANCE = iYali4.reactions.get_by_id('xMAINTENANCE')\n",
    "# xMAINTENANCE # bounds: (0,1000)\n",
    "# iYli_2_0 = cobra.io.read_sbml_model(corr_model_dict['iYli_2.0']) # no maintenance reaction\n",
    "# iMK735 = cobra.io.read_sbml_model(corr_model_dict['iMK735'])\n",
    "# atp_maintenance = iMK735.reactions.get_by_id('ATPM')\n",
    "# atp_maintenance # bounds: (1,1)\n",
    "# iNL895 = cobra.io.read_sbml_model(corr_model_dict['iNL895']) # no maintenance reaction\n",
    "\n"
   ]
  },
  {
   "attachments": {},
   "cell_type": "markdown",
   "metadata": {},
   "source": [
    "### Informatinos for the meeting on 19.04\n"
   ]
  },
  {
   "cell_type": "code",
   "execution_count": 49,
   "metadata": {},
   "outputs": [
    {
     "name": "stderr",
     "output_type": "stream",
     "text": [
      "No objective in listOfObjectives\n",
      "No objective coefficients in model. Unclear what should be optimized\n"
     ]
    },
    {
     "data": {
      "text/html": [
       "\n",
       "        <table>\n",
       "            <tr>\n",
       "                <td><strong>Reaction identifier</strong></td><td>biomass_C</td>\n",
       "            </tr><tr>\n",
       "                <td><strong>Name</strong></td><td>biomass_C</td>\n",
       "            </tr><tr>\n",
       "                <td><strong>Memory address</strong></td>\n",
       "                <td>0x2ab241850</td>\n",
       "            </tr><tr>\n",
       "                <td><strong>Stoichiometry</strong></td>\n",
       "                <td>\n",
       "                    <p style='text-align:right'>0.035251 m1000 + 0.172773 m1008 + 0.943397 m1123 + 0.567939 m114 + 0.243866 m130 + 0.235849 m1324 + 23.09 m141 + 0.059363 m149 + 3.5e-05 m1631 + 0.000234 m1640 + 7.5e-05 m1648 + 0.000237 m1700 +...</p>\n",
       "                    <p style='text-align:right'>0.035251 ergosterol[cy] + 0.172773 L-valine[cy] + 0.943397 (1-3)-beta-D-glucan[cy] + 0.567939 L-alanine[cy] + 0.243866 L-glutamine[cy] + 0.235849 mannan[cy] + 23.09 ATP[cy] + 0.059363 UMP[cy] +...</p>\n",
       "                </td>\n",
       "            </tr><tr>\n",
       "                <td><strong>GPR</strong></td><td></td>\n",
       "            </tr><tr>\n",
       "                <td><strong>Lower bound</strong></td><td>0.0</td>\n",
       "            </tr><tr>\n",
       "                <td><strong>Upper bound</strong></td><td>1000.0</td>\n",
       "            </tr>\n",
       "        </table>\n",
       "        "
      ],
      "text/plain": [
       "<Reaction biomass_C at 0x2ab241850>"
      ]
     },
     "execution_count": 49,
     "metadata": {},
     "output_type": "execute_result"
    }
   ],
   "source": [
    "### biomass_C reaction (for maintenance)\n",
    "iYali4 = cobra.io.read_sbml_model(corr_model_dict['iYali4'])\n",
    "\n",
    "# biomass\n",
    "biomass_C = iYali4.reactions.get_by_id('biomass_C')\n",
    "biomass_C\n",
    "\n",
    "# xMAINTENANCE = iYali4.reactions.get_by_id('xMAINTENANCE')\n"
   ]
  },
  {
   "attachments": {},
   "cell_type": "markdown",
   "metadata": {},
   "source": [
    "### Is the biomass_C reaction the same for each model?"
   ]
  },
  {
   "cell_type": "code",
   "execution_count": 40,
   "metadata": {},
   "outputs": [
    {
     "name": "stdout",
     "output_type": "stream",
     "text": [
      "yli647\n",
      "Metabolites for the reaction: biomass yarrowia carbon limiting (id: biomass_C)\n",
      "1_3_beta_D_Glucan (13BDglcn[c]): -0.943396927\n",
      "H2O (h2o[c]): -23.09\n",
      "L_Aspartate (asp_L[c]): -0.186531036\n",
      "ATP (atp[c]): -23.09\n",
      "AMP (amp[c]): -0.055401294\n",
      "Trehalose (tre[c]): -0.006859892\n",
      "L_Glutamate (glu_L[c]): -0.243904342\n",
      "L_Arginine (arg_L[c]): -0.125562993\n",
      "L_Glutamine (gln_L[c]): -0.24386559\n",
      "L_Alanine (ala_L[c]): -0.567938715\n",
      "Glycine (gly[c]): -0.509942819\n",
      "L_Methionine (met_L[c]): -0.04423181\n",
      "L_Proline (pro_L[c]): -0.206371817\n",
      "L_Asparagine (asn_L[c]): -0.186498253\n",
      "CMP (cmp[c]): -0.057210293\n",
      "L_Cysteine (cys_L[c]): -0.003631558\n",
      "dAMP (damp[c]): -0.010069587\n",
      "dCMP (dcmp[c]): -0.010436325\n",
      "dGMP (dgmp[c]): -0.009226307\n",
      "dTMP (dtmp[c]): -0.010353045\n",
      "Ergosterol (ergst[c]): -0.035250723\n",
      "Chitin__monomer_ (chitin[c]): -0.868358429\n",
      "GMP (gmp[c]): -0.050870974\n",
      "L_Histidine (his_L[c]): -0.053881088\n",
      "L_Isoleucine (ile_L[c]): -0.090566203\n",
      "L_Leucine (leu_L[c]): -0.194549622\n",
      "L_Lysine (lys_L[c]): -0.275004895\n",
      "Mannan (mannan[c]): -0.235849232\n",
      "Phosphatidate__yeast_specific (pa_SC[c]): -5.8e-05\n",
      "Phosphatidylcholine__yeast_specific (pc_SC[c]): -0.000346485\n",
      "phosphatidylethanolamine__yeast_specific (pe_SC[c]): -0.000236765\n",
      "L_Phenylalanine (phe_L[c]): -0.082570645\n",
      "phosphatidylserine__yeast_specific (ps_SC[c]): -3.5e-05\n",
      "phosphatidyl_1D_myo_inositol__yeast_specific (ptd1ino_SC[c]): -7.5e-05\n",
      "L_Serine (ser_L[c]): -0.284698809\n",
      "Sulfate (so4[c]): -0.02\n",
      "L_Threonine (thr_L[c]): -0.210543282\n",
      "triglyceride__yeast_specific (triglyc_SC[c]): -0.000234034\n",
      "L_Tryptophan (trp_L[c]): -0.002154449\n",
      "L_Tyrosine (tyr_L[c]): -0.04128234\n",
      "UMP (ump[c]): -0.059363404\n",
      "L_Valine (val_L[c]): -0.17277308\n",
      "zymosterol (zymst[c]): -0.003029289\n",
      "H (h[c]): 23.09\n",
      "Phosphate (pi[c]): 23.09\n",
      "ADP (adp[c]): 23.09\n",
      "biomass[c] (biomass[c]): 1.0\n"
     ]
    },
    {
     "name": "stderr",
     "output_type": "stream",
     "text": [
      "No objective in listOfObjectives\n",
      "No objective coefficients in model. Unclear what should be optimized\n"
     ]
    },
    {
     "name": "stdout",
     "output_type": "stream",
     "text": [
      "iYali4\n",
      "Metabolites for the reaction: biomass_C (id: biomass_C)\n",
      "H2O[cy] (m32): -23.09\n",
      "L-glutamate[cy] (m50): -0.243904\n",
      "L-methionine[cy] (m74): -0.044232\n",
      "AMP[cy] (m86): -0.055401\n",
      "dAMP[cy] (m89): -0.01007\n",
      "GMP[cy] (m93): -0.050871\n",
      "CMP[cy] (m95): -0.05721\n",
      "L-alanine[cy] (m114): -0.567939\n",
      "L-glutamine[cy] (m130): -0.243866\n",
      "ATP[cy] (m141): -23.09\n",
      "UMP[cy] (m149): -0.059363\n",
      "L-aspartate[cy] (m267): -0.186531\n",
      "L-glycine[cy] (m272): -0.509943\n",
      "trehalose[cy] (m294): -0.00686\n",
      "L-arginine[cy] (m310): -0.125563\n",
      "L-asparagine[cy] (m319): -0.186498\n",
      "zymosterol[cy] (m359): -0.003029\n",
      "chitin_H2O(C8H13NO5)n[cy] (m401): -0.868358\n",
      "L-serine[cy] (m441): -0.284699\n",
      "L-cysteine[cy] (m443): -0.003632\n",
      "dCMP[cy] (m459): -0.010436\n",
      "dGMP[cy] (m465): -0.009226\n",
      "dTMP[cy] (m505): -0.010353\n",
      "L-histidine[cy] (m615): -0.053881\n",
      "L-isoleucine[cy] (m743): -0.090566\n",
      "L-proline[cy] (m765): -0.206372\n",
      "L-threonine[cy] (m770): -0.210543\n",
      "L-tryptophan[cy] (m772): -0.002154\n",
      "L-leucine[cy] (m775): -0.19455\n",
      "L-lysine[cy] (m793): -0.275005\n",
      "L-phenylalanine[cy] (m859): -0.082571\n",
      "sulphate[cy] (m964): -0.02\n",
      "L-tyrosine[cy] (m992): -0.041282\n",
      "ergosterol[cy] (m1000): -0.035251\n",
      "L-valine[cy] (m1008): -0.172773\n",
      "(1-3)-beta-D-glucan[cy] (m1123): -0.943397\n",
      "mannan[cy] (m1324): -0.235849\n",
      "phosphatidyl-L-serine[em] (m1631): -3.5e-05\n",
      "triglyceride_ActiveX VT_ERROR:[lp] (m1640): -0.000234\n",
      "1-phosphatidyl-1D-myo-inositol_ActiveX VT_ERROR:[em] (m1648): -7.5e-05\n",
      "phosphatidylethanolamine[lp] (m1700): -0.000237\n",
      "phosphatidylcholine[lp] (m1701): -0.000346\n",
      "phosphatidate_ActiveX VT_ERROR:[lp] (m1705): -5.8e-05\n",
      "H+_p+1[cy] (m10): 23.09\n",
      "phosphate[cy] (m35): 23.09\n",
      "ADP[cy] (m143): 23.09\n",
      "biomass[cy] (m1401): 1.0\n"
     ]
    },
    {
     "name": "stderr",
     "output_type": "stream",
     "text": [
      "No objective in listOfObjectives\n",
      "No objective coefficients in model. Unclear what should be optimized\n"
     ]
    },
    {
     "name": "stdout",
     "output_type": "stream",
     "text": [
      "iYli_2.0\n",
      "Metabolites for the reaction: biomass_C (id: biomass_C)\n",
      "L-Glutamine[c] (M00063[c]): -0.243866\n",
      "L-Glutamate[c] (M00025[c]): -0.243904\n",
      "H2O[c] (M00001[c]): -23.09\n",
      "ATP[c] (M00002[c]): -23.09\n",
      "L-Alanine[c] (M00042[c]): -0.567939\n",
      "L-Aspartate[c] (M00050[c]): -0.186531\n",
      "Glycine[c] (M00038[c]): -0.509943\n",
      "AMP[c] (M00020[c]): -0.055401\n",
      "L-Asparagine[c] (M00150[c]): -0.186498\n",
      "Chitin[c] (M00434[c]): -0.868358\n",
      "L-Arginine[c] (M00061[c]): -0.125563\n",
      "L-Proline[c] (M00146[c]): -0.206372\n",
      "L-Methionine[c] (M00072[c]): -0.044232\n",
      "L-Cysteine[c] (M00096[c]): -0.003632\n",
      "L-Serine[c] (M00064[c]): -0.284699\n",
      "L-Threonine[c] (M00185[c]): -0.210543\n",
      "Phosphatidate[c] (M00399[c]): -5.8e-05\n",
      "Triacylglycerol[c] (M00403[c]): -0.000234\n",
      "Phosphatidylcholine[c] (M00155[c]): -0.000346\n",
      "Phosphatidylethanolamine[c] (M00342[c]): -0.000237\n",
      "CMP[c] (M00056[c]): -0.05721\n",
      "Phosphatidylserine[c] (M01746[c]): -3.5e-05\n",
      "1-Phosphatidyl-D-myo-inositol[c] (M01014[c]): -7.5e-05\n",
      "L-Histidine[c] (M00134[c]): -0.053881\n",
      "L-Lysine[c] (M00048[c]): -0.275005\n",
      "GMP[c] (M00143[c]): -0.050871\n",
      "dAMP[c] (M00352[c]): -0.01007\n",
      "dGMP[c] (M00354[c]): -0.009226\n",
      "L-Phenylalanine[c] (M00078[c]): -0.082571\n",
      "L-Tyrosine[c] (M00081[c]): -0.041282\n",
      "L-Tryptophan[c] (M00077[c]): -0.002154\n",
      "dTMP[c] (M00356[c]): -0.010353\n",
      "UMP[c] (M00104[c]): -0.059363\n",
      "dCMP[c] (M00236[c]): -0.010436\n",
      "Sulfate[c] (M00058[c]): -0.02\n",
      "alpha,alpha-Trehalose[c] (M00927[c]): -0.00686\n",
      "1,3-beta-D-Glucan[c] (M00844[c]): -0.943397\n",
      "Ergosterol[c] (M01337[c]): -0.035251\n",
      "Zymosterol[c] (M02611[c]): -0.003029\n",
      "L-Leucine[c] (M00122[c]): -0.19455\n",
      "L-Valine[c] (M00180[c]): -0.172773\n",
      "L-Isoleucine[c] (M00390[c]): -0.090566\n",
      "Mannan[c] (M00437[c]): -0.235849\n",
      "H+[c] (M00079[c]): 23.09\n",
      "ADP[c] (M00008[c]): 23.09\n",
      "Orthophosphate[c] (M00009[c]): 23.09\n",
      "biomass[e] (biomass[e]): 1.0\n"
     ]
    },
    {
     "name": "stderr",
     "output_type": "stream",
     "text": [
      "No objective in listOfObjectives\n",
      "No objective coefficients in model. Unclear what should be optimized\n"
     ]
    },
    {
     "name": "stdout",
     "output_type": "stream",
     "text": [
      "iMK735\n",
      "Metabolites for the reaction: biomass_C (id: biomass_C)\n",
      "1_3_beta_D_Glucan (13BDglcn[c]): -0.943397\n",
      "L_Alanine (ala_L[c]): -0.567939\n",
      "AMP (amp[c]): -0.055401\n",
      "L_Arginine (arg_L[c]): -0.125563\n",
      "L_Asparagine (asn_L[c]): -0.186498\n",
      "L_Aspartate (asp_L[c]): -0.186531\n",
      "ATP (atp[c]): -23.09\n",
      "Chitin__monomer_ (chitin[c]): -0.868358\n",
      "CMP (cmp[c]): -0.05721\n",
      "L_Cysteine (cys_L[c]): -0.003632\n",
      "dAMP (damp[c]): -0.01007\n",
      "dCMP (dcmp[c]): -0.010436\n",
      "dGMP (dgmp[c]): -0.009226\n",
      "dTMP (dtmp[c]): -0.010353\n",
      "Ergosterol (ergst[c]): -0.035251\n",
      "L_Glutamine (gln_L[c]): -0.243866\n",
      "L_Glutamate (glu_L[c]): -0.243904\n",
      "Glycine (gly[c]): -0.509943\n",
      "GMP (gmp[c]): -0.050871\n",
      "H2O (h2o[c]): -23.09\n",
      "L_Histidine (his_L[c]): -0.053881\n",
      "L_Isoleucine (ile_L[c]): -0.090566\n",
      "L_Leucine (leu_L[c]): -0.19455\n",
      "L_Lysine (lys_L[c]): -0.275005\n",
      "Mannan (mannan[c]): -0.235849\n",
      "L_Methionine (met_L[c]): -0.044232\n",
      "Phosphatidate__yeast_specific (pa_SC[c]): -5.8e-05\n",
      "Phosphatidylcholine__yeast_specific (pc_SC[c]): -0.000346\n",
      "phosphatidylethanolamine__yeast_specific (pe_SC[c]): -0.000237\n",
      "L_Phenylalanine (phe_L[c]): -0.082571\n",
      "L_Proline (pro_L[c]): -0.206372\n",
      "phosphatidylserine__yeast_specific (ps_SC[c]): -3.5e-05\n",
      "phosphatidyl_1D_myo_inositol__yeast_specific (ptd1ino_SC[c]): -7.5e-05\n",
      "L_Serine (ser_L[c]): -0.284699\n",
      "Sulfate (so4[c]): -0.02\n",
      "L_Threonine (thr_L[c]): -0.210543\n",
      "Trehalose (tre[c]): -0.00686\n",
      "triglyceride__yeast_specific (triglyc_SC[c]): -0.000234\n",
      "L_Tryptophan (trp_L[c]): -0.002154\n",
      "L_Tyrosine (tyr_L[c]): -0.041282\n",
      "UMP (ump[c]): -0.059363\n",
      "L_Valine (val_L[c]): -0.172773\n",
      "zymosterol (zymst[c]): -0.003029\n",
      "ADP (adp[c]): 23.09\n",
      "H (h[c]): 23.09\n",
      "Phosphate (pi[c]): 23.09\n"
     ]
    },
    {
     "name": "stderr",
     "output_type": "stream",
     "text": [
      "No objective in listOfObjectives\n",
      "No objective coefficients in model. Unclear what should be optimized\n"
     ]
    },
    {
     "name": "stdout",
     "output_type": "stream",
     "text": [
      "iNL895\n",
      "Metabolites for the reaction: biomass_C (id: biomass_C)\n",
      "(1->3)-beta-D-glucan[cy] (s_0002): -0.9434\n",
      "1-phosphatidyl-1D-myo-inositol[cy] (s_0091): -7.5e-05\n",
      "alpha,alpha-trehalose[cy] (s_0416): -0.0068599\n",
      "AMP[cy] (s_0434): -0.055401\n",
      "ATP[cy] (s_0446): -23.09\n",
      "chitin[cy] (s_0494): -0.86836\n",
      "CMP[cy] (s_0511): -0.05721\n",
      "dAMP[cy] (s_0564): -0.01007\n",
      "dCMP[cy] (s_0569): -0.010436\n",
      "dGMP[cy] (s_0593): -0.0092263\n",
      "dTMP[cy] (s_0619): -0.010353\n",
      "ergosterol[cy] (s_0636): -0.035251\n",
      "L-glycine[cy] (s_0740): -0.50994\n",
      "GMP[cy] (s_0752): -0.050871\n",
      "L-alanine[cy] (s_0863): -0.56794\n",
      "L-arginine[cy] (s_0873): -0.12556\n",
      "L-asparagine[cy] (s_0877): -0.1865\n",
      "L-aspartate[cy] (s_0881): -0.18653\n",
      "L-cysteine[cy] (s_0889): -0.0036316\n",
      "L-glutamate[cy] (s_0899): -0.2439\n",
      "L-glutamine[cy] (s_0907): -0.24387\n",
      "L-histidine[cy] (s_0911): -0.053881\n",
      "L-isoleucine[cy] (s_0920): -0.090566\n",
      "L-leucine[cy] (s_0925): -0.19455\n",
      "L-lysine[cy] (s_0929): -0.275\n",
      "L-methionine[cy] (s_0933): -0.044232\n",
      "L-phenylalanine[cy] (s_0936): -0.082571\n",
      "L-proline[cy] (s_0939): -0.20637\n",
      "L-serine[cy] (s_0943): -0.2847\n",
      "L-threonine[cy] (s_0949): -0.21054\n",
      "L-tryptophan[cy] (s_0952): -0.0021544\n",
      "L-tyrosine[cy] (s_0955): -0.041282\n",
      "L-valine[cy] (s_0960): -0.17277\n",
      "mannan[cy] (s_1011): -0.23585\n",
      "phosphatidate[cy] (s_1216): -5.8e-05\n",
      "phosphatidyl-L-serine[cy] (s_1220): -3.5e-05\n",
      "phosphatidylcholine[cy] (s_1229): -0.00034649\n",
      "phosphatidylethanolamine[cy] (s_1234): -0.00023677\n",
      "sulphate[cy] (s_1347): -0.02\n",
      "triglyceride[cy] (s_1399): -0.00023403\n",
      "UMP[cy] (s_1417): -0.059363\n",
      "zymosterol[cy] (s_1448): -0.0030293\n",
      "ADP[cy] (s_0400): 23.09\n",
      "biomass[cy] (s_0463): 1.0\n",
      "phosphate[cy] (s_1207): 23.09\n",
      "iYli21\n",
      "Metabolites for the reaction: biomass_C (id: biomass_C)\n",
      "H2O_H2O (m32[c]): -23.09\n",
      "L-glutamate_C5H9NO4 (m50[c]): -0.243904\n",
      "L-methionine_C5H11NO2S (m74[c]): -0.044232\n",
      "AMP_C10H14N5O7P (m86[c]): -0.055401\n",
      "dAMP_C10H14N5O6P (m89[c]): -0.01007\n",
      "GMP_C10H14N5O8P (m93[c]): -0.050871\n",
      "CMP_C9H14N3O8P (m95[c]): -0.05721\n",
      "L-alanine_C3H7NO2 (m114[c]): -0.567939\n",
      "L-glutamine_C5H10N2O3 (m130[c]): -0.243866\n",
      "ATP_C10H16N5O13P3 (m141[c]): -23.09\n",
      "UMP_C9H13N2O9P (m149[c]): -0.059363\n",
      "L-aspartate_C4H7NO4 (m267[c]): -0.186531\n",
      "L-glycine_C2H5NO2 (m272[c]): -0.509943\n",
      "trehalose_C12H22O11 (m294[c]): -0.00686\n",
      "L-arginine_C6H14N4O2 (m310[c]): -0.125563\n",
      "L-asparagine_C4H8N2O3 (m319[c]): -0.186498\n",
      "zymosterol_C27H44O (m359[c]): -0.003029\n",
      "chitin_H2O(C8H13NO5)n (m401[c]): -0.868358\n",
      "L-serine_C3H7NO3 (m441[c]): -0.284699\n",
      "L-cysteine_C3H7NO2S (m443[c]): -0.003632\n",
      "dCMP_C9H14N3O7P (m459[c]): -0.010436\n",
      "dGMP_C10H14N5O7P (m465[c]): -0.009226\n",
      "dTMP_C10H15N2O8P (m505[c]): -0.010353\n",
      "L-histidine_C6H9N3O2 (m615[c]): -0.053881\n",
      "L-isoleucine_C6H13NO2 (m743[c]): -0.090566\n",
      "L-proline_C5H9NO2 (m765[c]): -0.206372\n",
      "L-threonine_C4H9NO3 (m770[c]): -0.210543\n",
      "L-tryptophan_C11H12N2O2 (m772[c]): -0.002154\n",
      "L-leucine_C6H13NO2 (m775[c]): -0.19455\n",
      "L-lysine_C6H14N2O2 (m793[c]): -0.275005\n",
      "L-phenylalanine_C9H11NO2 (m859[c]): -0.082571\n",
      "sulphate_H2O4S (m964[c]): -0.02\n",
      "L-tyrosine_C9H11NO3 (m992[c]): -0.041282\n",
      "ergosterol_C28H44O (m1000[c]): -0.035251\n",
      "L-valine_C5H11NO2 (m1008[c]): -0.172773\n",
      "(1-3)-beta-D-glucan_ (m1123[c]): -0.943397\n",
      "mannan_ (m1324[c]): -0.235849\n",
      "phosphatidyl-L-serine_C8H11NO10PR2 (m1631[C_em]): -3.5e-05\n",
      "triglyceride_ActiveX VT_ERROR: (m1640[C_lp]): -0.000234\n",
      "1-phosphatidyl-1D-myo-inositol_ActiveX VT_ERROR: (m1648[C_em]): -7.5e-05\n",
      "phosphatidylethanolamine_C7H12NO8PR2 (m1700[C_lp]): -0.000237\n",
      "phosphatidylcholine_C10H18NO8PR2 (m1701[C_lp]): -0.000346\n",
      "phosphatidate_ActiveX VT_ERROR: (m1705[C_lp]): -5.8e-05\n",
      "H+_p+1 (m10[c]): 23.09\n",
      "phosphate_H3O4P (m35[c]): 23.09\n",
      "ADP_C10H15N5O10P2 (m143[c]): 23.09\n",
      "biomass_ (m1401[c]): 1.0\n"
     ]
    },
    {
     "data": {
      "text/plain": [
       "True"
      ]
     },
     "execution_count": 40,
     "metadata": {},
     "output_type": "execute_result"
    }
   ],
   "source": [
    "##one example\n",
    "# example_name = 'iYali4'\n",
    "# model = cobra.io.read_sbml_model(corr_model_dict[example_name])\n",
    "# print(example_name)\n",
    "\n",
    "# biomass_rxn_id = 'biomass_C'\n",
    "# biomass_rxn = model.reactions.get_by_id(biomass_rxn_id)\n",
    "# metabolites_print(model, biomass_rxn_id)\n",
    "\n",
    "# example_name = 'yli647'\n",
    "# model_path = corr_model_dict[example_name]\n",
    "# model = cobra.io.read_sbml_model(model_path)\n",
    "# print(example_name)\n",
    "\n",
    "# biomass_rxn_id = 'biomass_C'\n",
    "# biomass_rxn = model.reactions.get_by_id(biomass_rxn_id)\n",
    "# metabolites_print(model, biomass_rxn_id)\n",
    "\n",
    "############################ compare names and coefficients for all models\n",
    "# biomass_rxn_id = 'biomass_C'\n",
    "# for model_name, model_path in corr_model_dict.items():\n",
    "#     model = cobra.io.read_sbml_model(model_path)\n",
    "#     print(model_name)\n",
    "#     metabolites_print(model, biomass_rxn_id)\n",
    "\n",
    "# print('iYli21')\n",
    "# metabolites_print(iYli21_model, biomass_rxn_id)\n"
   ]
  },
  {
   "attachments": {},
   "cell_type": "markdown",
   "metadata": {},
   "source": [
    "#### Weird findings (iMK735 has no biomass metabolite, iNL895 does not have H2O and H):"
   ]
  },
  {
   "cell_type": "code",
   "execution_count": 69,
   "metadata": {},
   "outputs": [
    {
     "data": {
      "text/html": [
       "\n",
       "        <table>\n",
       "            <tr>\n",
       "                <td><strong>Reaction identifier</strong></td><td>r_0525</td>\n",
       "            </tr><tr>\n",
       "                <td><strong>Name</strong></td><td>glyceraldehyde-3-phosphate dehydrogenase</td>\n",
       "            </tr><tr>\n",
       "                <td><strong>Memory address</strong></td>\n",
       "                <td>0x7fe42daa45e0</td>\n",
       "            </tr><tr>\n",
       "                <td><strong>Stoichiometry</strong></td>\n",
       "                <td>\n",
       "                    <p style='text-align:right'>s_0731 + s_1082 + s_1207 <=> s_0265 + s_1087</p>\n",
       "                    <p style='text-align:right'>glyceraldehyde 3-phosphate[cy] + NAD[cy] + phosphate[cy] <=> 1,3-bisphospho-D-glycerate[cy] + NADH[cy]</p>\n",
       "                </td>\n",
       "            </tr><tr>\n",
       "                <td><strong>GPR</strong></td><td>YALI0C06369g</td>\n",
       "            </tr><tr>\n",
       "                <td><strong>Lower bound</strong></td><td>-1000.0</td>\n",
       "            </tr><tr>\n",
       "                <td><strong>Upper bound</strong></td><td>1000.0</td>\n",
       "            </tr>\n",
       "        </table>\n",
       "        "
      ],
      "text/plain": [
       "<Reaction r_0525 at 0x7fe42daa45e0>"
      ]
     },
     "execution_count": 69,
     "metadata": {},
     "output_type": "execute_result"
    }
   ],
   "source": [
    "# iMK735: biomass_C does not include the biomass metabolite\n",
    "# looking for the biomass metabolite in this model\n",
    "# 1. load model\n",
    "# iMK735 = cobra.io.read_sbml_model(corr_model_dict['iMK735'])\n",
    "\n",
    "# 2. find biomass metabolite => not found \n",
    "# for met in iMK735.metabolites:\n",
    "#     if 'biomass' in met.name.lower():\n",
    "#         print(met.name, met.id)\n",
    "\n",
    "# # 3. check all biomass reactions => there is nothing as a biomass reaction\n",
    "# for rxn in iMK735.exchanges:\n",
    "#     if 'biomass' in rxn.name.lower():\n",
    "#         print(rxn.id, rxn.name)\n",
    "#         print(rxn.reaction)\n",
    "\n",
    "### Look into iNL895 (does it have H2O and H as metabolites?)\n",
    "# load model\n",
    "# iNL895_model = cobra.io.read_sbml_model(corr_model_dict['iNL895'])\n",
    "\n",
    "# # No metabolite names H2O or H\n",
    "# for met in iNL895_model.metabolites:\n",
    "#     if 'H' in met.name:\n",
    "#         print(met.name, met.id)\n",
    "\n",
    "# look into NAD -> NADH definition s_1087: NADH[cy], s_1082: NAD[cy]\n",
    "# nadh = iNL895_model.metabolites.get_by_id('s_1087')\n",
    "# for rxn in nadh.reactions:\n",
    "#     print(rxn.metabolites)\n",
    "#     for met in rxn.metabolites:\n",
    "#         if 'nad' in met.name.lower():\n",
    "#             print(met.name, met.id, rxn.id, rxn.reaction)\n",
    "\n",
    "## find NADH producing reaction\n",
    "# r_0742 = iNL895_model.reactions.get_by_id('r_0742')\n",
    "# r_0742 # NADH[cy] + ubiquinone-6[mi] --> NAD[cy] + ubiquinol-6[mi]\n",
    "\n",
    "# r_0734 = iNL895_model.reactions.get_by_id('r_0734')\n",
    "# r_0734 # 4-acetamidobutanal[cy] + NAD[cy] --> 4-acetamidobutanoate[cy] + NADH[cy]\n",
    "\n",
    "# # set biomass and look into summary\n",
    "# iNL895_model.objective = 'biomass_C'\n",
    "# iNL895_model.metabolites.get_by_id('s_1087').summary()\n",
    "\n",
    "# # => found producing reactions: r_0525, r_0688, r_020_xxx, r_0064, r_0969, r_0575\n",
    "# r_0525 = iNL895_model.reactions.get_by_id('r_0525')\n",
    "# r_0525 # glyceraldehyde 3-phosphate[cy] + NAD[cy] + phosphate[cy] <=> 1,3-bisphospho-D-glycerate[cy] + NADH[cy]\n",
    "\n",
    "# r_0688 = iNL895_model.reactions.get_by_id('r_0688')\n",
    "# r_0688 # (S)-malate[cy] + NAD[cy] <=> NADH[cy] + oxaloacetate(2-)[cy]\n",
    "\n",
    "# r_020_xxx = iNL895_model.reactions.get_by_id('r_020_xxx')\n",
    "# r_020_xxx # IMP[cy] + NAD[cy] --> xanthosine-5-phosphate[cy] + NADH[cy]\n",
    "\n",
    "# r_0064 = iNL895_model.reactions.get_by_id('r_0064')\n",
    "# r_0064 # (2R,3S)-3-isopropylmalate[cy] + NAD[cy] --> (2S)-2-isopropyl-3-oxosuccinate(2-)[cy] + NADH[cy]\n",
    "\n",
    "# r_0969 = iNL895_model.reactions.get_by_id('r_0969')\n",
    "# r_0969 # L-saccharopine[cy] + NAD[cy] <=> 2-oxoglutarate[cy] + L-lysine[cy] + NADH[cy]\n",
    "\n",
    "# r_0575 = iNL895_model.reactions.get_by_id('r_0575')\n",
    "# r_0575 # L-histidinol[cy] + 2.0 NAD[cy] --> L-histidine[cy] + 2.0 NADH[cy]\n"
   ]
  },
  {
   "attachments": {},
   "cell_type": "markdown",
   "metadata": {},
   "source": [
    "### Does all corrected models have chemical formulas?"
   ]
  },
  {
   "cell_type": "code",
   "execution_count": 84,
   "metadata": {},
   "outputs": [
    {
     "name": "stdout",
     "output_type": "stream",
     "text": [
      "yli647\n",
      "Number of metabolites:  1121\n",
      "Number of metabolites in yli647 with a chemical formula is 1101/1121 = 0.982% (=> 20 whithout) a chemical formula\n"
     ]
    },
    {
     "name": "stderr",
     "output_type": "stream",
     "text": [
      "No objective in listOfObjectives\n",
      "No objective coefficients in model. Unclear what should be optimized\n"
     ]
    },
    {
     "name": "stdout",
     "output_type": "stream",
     "text": [
      "iYali4\n",
      "Number of metabolites:  1683\n",
      "Number of metabolites in iYali4 with a chemical formula is 1277/1683 = 0.759% (=> 406 whithout) a chemical formula\n"
     ]
    },
    {
     "name": "stderr",
     "output_type": "stream",
     "text": [
      "No objective in listOfObjectives\n",
      "No objective coefficients in model. Unclear what should be optimized\n"
     ]
    },
    {
     "name": "stdout",
     "output_type": "stream",
     "text": [
      "iYli_2.0\n",
      "Number of metabolites:  1087\n",
      "Number of metabolites in iYli_2.0 with a chemical formula is 988/1087 = 0.909% (=> 99 whithout) a chemical formula\n"
     ]
    },
    {
     "name": "stderr",
     "output_type": "stream",
     "text": [
      "No objective in listOfObjectives\n",
      "No objective coefficients in model. Unclear what should be optimized\n"
     ]
    },
    {
     "name": "stdout",
     "output_type": "stream",
     "text": [
      "iMK735\n",
      "Number of metabolites:  1115\n",
      "Number of metabolites in iMK735 with a chemical formula is 1076/1115 = 0.965% (=> 39 whithout) a chemical formula\n"
     ]
    },
    {
     "name": "stderr",
     "output_type": "stream",
     "text": [
      "No objective in listOfObjectives\n",
      "No objective coefficients in model. Unclear what should be optimized\n"
     ]
    },
    {
     "name": "stdout",
     "output_type": "stream",
     "text": [
      "iNL895\n",
      "Number of metabolites:  1590\n",
      "Number of metabolites in iNL895 with a chemical formula is 0/1590 = 0.0% (=> 1590 whithout) a chemical formula\n"
     ]
    }
   ],
   "source": [
    "# check number of metabolites with chemical formula and without and print it nicely\n",
    "for model_name, model_path in corr_model_dict.items():\n",
    "    model = cobra.io.read_sbml_model(model_path)\n",
    "    model.objective = 'biomass_C'\n",
    "    print(model_name)\n",
    "    print('Number of metabolites: ', len(model.metabolites))\n",
    "    ## look if chemical formulas exist\n",
    "    metabolite_counter = 0\n",
    "    for met in model.metabolites:\n",
    "        if met.formula is not None:\n",
    "            metabolite_counter += 1\n",
    "            continue\n",
    "    print(f'Number of metabolites in {model_name} with a chemical formula is {metabolite_counter}/{len(model.metabolites)} = {round(metabolite_counter/len(model.metabolites),3)}% (=> {len(model.metabolites) - metabolite_counter} whithout) a chemical formula')\n",
    "\n",
    "## iNL895 has 0 metabolites with a chemical formula?\n",
    "# iNL895_model = cobra.io.read_sbml_model(corr_model_dict['iNL895'])\n",
    "\n",
    "# for met in iNL895_model.metabolites:\n",
    "#     print(met.id, met.name, met.formula)\n"
   ]
  },
  {
   "attachments": {},
   "cell_type": "markdown",
   "metadata": {},
   "source": [
    "### Check the molecular weigth of biomass with the summary function"
   ]
  },
  {
   "cell_type": "code",
   "execution_count": 89,
   "metadata": {},
   "outputs": [
    {
     "name": "stderr",
     "output_type": "stream",
     "text": [
      "No objective in listOfObjectives\n",
      "No objective coefficients in model. Unclear what should be optimized\n"
     ]
    },
    {
     "name": "stdout",
     "output_type": "stream",
     "text": [
      "iYali4\n"
     ]
    }
   ],
   "source": [
    "##one example\n",
    "example_name = 'iYali4'\n",
    "model = cobra.io.read_sbml_model(corr_model_dict[example_name])\n",
    "model.objective = 'xBIOMASS'\n",
    "print(example_name)"
   ]
  },
  {
   "cell_type": "code",
   "execution_count": 93,
   "metadata": {},
   "outputs": [
    {
     "name": "stdout",
     "output_type": "stream",
     "text": [
      "m32 H2O[cy] H2O\n",
      "m86 AMP[cy] C10H14N5O7P\n",
      "m89 dAMP[cy] C10H14N5O6P\n",
      "m93 GMP[cy] C10H14N5O8P\n",
      "m95 CMP[cy] C9H14N3O8P\n",
      "m141 ATP[cy] C10H16N5O13P3\n",
      "m149 UMP[cy] C9H13N2O9P\n",
      "m294 trehalose[cy] C12H22O11\n",
      "m401 chitin_H2O(C8H13NO5)n[cy] None\n",
      "m459 dCMP[cy] C9H14N3O7P\n",
      "m465 dGMP[cy] C10H14N5O7P\n",
      "m505 dTMP[cy] C10H15N2O8P\n",
      "m1123 (1-3)-beta-D-glucan[cy] None\n",
      "m1324 mannan[cy] None\n",
      "m1726 protein[cy] None\n",
      "m1727 lipids[cy] None\n"
     ]
    }
   ],
   "source": [
    "## Check the molecular weight of the biomass reaction \n",
    "### Accoring to this source: https://stackoverflow.com/questions/43796431/calculating-molecular-weight-in-python\n",
    "### 1. function for formula parsing H20 to [('H', 2), ('O', 1)], (parsed_formula = parse_formula(formula))\n",
    "### 2. weight dict (weight = {'C' : 12.0110, ...})\n",
    "### 3. calculate weight: return sum([weight[symbol] * number] for symbol, number in parsed_formula])\n",
    "\n",
    "#### 1 + 2 + 3: solved by: https://github.com/cgohlke/molmass#examples\n",
    "\n",
    "### BUT: There are 1. metabolites without formula and metabolites whicht consist of multiple metabolites (e.g. proteins, lipids)\n",
    "\n",
    "# 1. Iteriere über die metabolites in der biomass reaction \n",
    "# a.) liste von einfachen -> python molmass\n",
    "# b.) liste von komplizierten (e.g. chitin, proteins, lipids)\n",
    "\n",
    "\n",
    "# 3. Multipliziere das Gewicht mit dem Wert in der biomass reaction und addiere es auf\n"
   ]
  },
  {
   "cell_type": "code",
   "execution_count": 98,
   "metadata": {},
   "outputs": [
    {
     "data": {
      "text/html": [
       "<h3>m401</h3><p>None</p><h4>Producing Reactions</h4><table border=\"1\" class=\"dataframe\">\n",
       "  <thead>\n",
       "    <tr style=\"text-align: right;\">\n",
       "      <th>Percent</th>\n",
       "      <th>Flux</th>\n",
       "      <th>Reaction</th>\n",
       "      <th>Definition</th>\n",
       "    </tr>\n",
       "  </thead>\n",
       "  <tbody>\n",
       "    <tr>\n",
       "      <td>100.00%</td>\n",
       "      <td>0.3556</td>\n",
       "      <td>272</td>\n",
       "      <td>m403 --&gt; m10 + m11 + m401</td>\n",
       "    </tr>\n",
       "  </tbody>\n",
       "</table><h4>Consuming Reactions</h4><table border=\"1\" class=\"dataframe\">\n",
       "  <thead>\n",
       "    <tr style=\"text-align: right;\">\n",
       "      <th>Percent</th>\n",
       "      <th>Flux</th>\n",
       "      <th>Reaction</th>\n",
       "      <th>Definition</th>\n",
       "    </tr>\n",
       "  </thead>\n",
       "  <tbody>\n",
       "    <tr>\n",
       "      <td>100.00%</td>\n",
       "      <td>-0.3556</td>\n",
       "      <td>xBIOMASS</td>\n",
       "      <td>0.4415 m1123 + 0.1104 m1324 + 86.7881 m141 + 0.0623 m149 + m1726 + m1727 + 0.0032 m294 + 86.7881 m32 + 0.4068 m401 + 0.0377 m459 + 0.0377 m465 + 0.0383 m505 + 0.0757 m86 + 0.0383 m89 + 0.093 m93 + 0.0578 m95 --&gt; 86.7881 m10 + m1401 + 86.7881 m143 + 86.7881 m35</td>\n",
       "    </tr>\n",
       "  </tbody>\n",
       "</table>"
      ],
      "text/plain": [
       "<cobra.summary.metabolite_summary.MetaboliteSummary at 0x7fe44a599370>"
      ]
     },
     "execution_count": 98,
     "metadata": {},
     "output_type": "execute_result"
    }
   ],
   "source": [
    "#### find chitin number of elements (using summary)\n",
    "model.metabolites.get_by_id('m401').summary()\n",
    "# chitin = model.metabolites.get_by_id('chitin_H2O(C8H13NO5)n[cy]')\n",
    "\n",
    "# # compare to glucose reaction summary\n",
    "# model.metabolites.get_by_id('m511').summary() # -> 10mmol/h\n",
    "\n",
    "# example for chitin: 0.3556 mmol/h (wikipedia: formula: C8H13NO5, weight: 203.19 g/mol ~ 0.20319 g/mmol) => 0.3556 * 0.20316 = 0.072 g/h"
   ]
  },
  {
   "cell_type": "code",
   "execution_count": 90,
   "metadata": {},
   "outputs": [
    {
     "name": "stdout",
     "output_type": "stream",
     "text": [
      "biomass[cy] m1401\n"
     ]
    },
    {
     "data": {
      "text/html": [
       "<h3>m1401</h3><p>None</p><h4>Producing Reactions</h4><table border=\"1\" class=\"dataframe\">\n",
       "  <thead>\n",
       "    <tr style=\"text-align: right;\">\n",
       "      <th>Percent</th>\n",
       "      <th>Flux</th>\n",
       "      <th>Reaction</th>\n",
       "      <th>Definition</th>\n",
       "    </tr>\n",
       "  </thead>\n",
       "  <tbody>\n",
       "    <tr>\n",
       "      <td>100.00%</td>\n",
       "      <td>0.8741</td>\n",
       "      <td>xBIOMASS</td>\n",
       "      <td>0.4415 m1123 + 0.1104 m1324 + 86.7881 m141 + 0.0623 m149 + m1726 + m1727 + 0.0032 m294 + 86.7881 m32 + 0.4068 m401 + 0.0377 m459 + 0.0377 m465 + 0.0383 m505 + 0.0757 m86 + 0.0383 m89 + 0.093 m93 + 0.0578 m95 --&gt; 86.7881 m10 + m1401 + 86.7881 m143 + 86.7881 m35</td>\n",
       "    </tr>\n",
       "  </tbody>\n",
       "</table><h4>Consuming Reactions</h4><table border=\"1\" class=\"dataframe\">\n",
       "  <thead>\n",
       "    <tr style=\"text-align: right;\">\n",
       "      <th>Percent</th>\n",
       "      <th>Flux</th>\n",
       "      <th>Reaction</th>\n",
       "      <th>Definition</th>\n",
       "    </tr>\n",
       "  </thead>\n",
       "  <tbody>\n",
       "    <tr>\n",
       "      <td>100.00%</td>\n",
       "      <td>-0.8741</td>\n",
       "      <td>2111</td>\n",
       "      <td>m1401 --&gt;</td>\n",
       "    </tr>\n",
       "  </tbody>\n",
       "</table>"
      ],
      "text/plain": [
       "<cobra.summary.metabolite_summary.MetaboliteSummary at 0x7fe41ca18190>"
      ]
     },
     "execution_count": 90,
     "metadata": {},
     "output_type": "execute_result"
    }
   ],
   "source": [
    "## Fast way to compute MW (hopefully) \n",
    "# => 1. Find biomass metabolite 2. Use summary 3. Get MW from summary\n",
    "\n",
    "## 1. Find biomass metabolite (If existend)\n",
    "for met in model.metabolites:\n",
    "    if 'biomass' in met.name.lower():\n",
    "        print(met.name, met.id)\n",
    "biomass_metabolite = 'm1401'\n",
    "\n",
    "# 2. Use summary\n",
    "model.metabolites.get_by_id(biomass_metabolite).summary()\n"
   ]
  },
  {
   "attachments": {},
   "cell_type": "markdown",
   "metadata": {},
   "source": [
    "### Investigate growth reaction or alternatives to biomass_C (maybe from iYLI647)"
   ]
  },
  {
   "cell_type": "code",
   "execution_count": 8,
   "metadata": {},
   "outputs": [],
   "source": [
    "#### helper function\n",
    "# find biomass or growth reactions:\n",
    "def find_biomass_or_growth_reactions(model, print_reactions = True):\n",
    "    biomass_or_growth_reactions = []\n",
    "    for rxn in model.reactions:\n",
    "        if 'biomass' in rxn.name.lower() or 'growth' in rxn.name.lower():\n",
    "            if print_reactions:\n",
    "                print(rxn.name, rxn.id)\n",
    "            biomass_or_growth_reactions.append(rxn)\n",
    "    return biomass_or_growth_reactions"
   ]
  },
  {
   "attachments": {},
   "cell_type": "markdown",
   "metadata": {},
   "source": [
    "#### iYLI647"
   ]
  },
  {
   "cell_type": "code",
   "execution_count": null,
   "metadata": {},
   "outputs": [],
   "source": [
    "# load model\n",
    "yli647 = cobra.io.read_sbml_model(corr_model_dict['yli647'])"
   ]
  },
  {
   "cell_type": "code",
   "execution_count": 9,
   "metadata": {},
   "outputs": [
    {
     "name": "stdout",
     "output_type": "stream",
     "text": [
      "biomass yarrowia carbon limiting biomass_C\n",
      "biomass yarrowia nitrogen limiting biomass_N\n"
     ]
    }
   ],
   "source": [
    "with yli647 as model:\n",
    "    find_biomass_or_growth_reactions(model)\n"
   ]
  },
  {
   "attachments": {},
   "cell_type": "markdown",
   "metadata": {},
   "source": [
    "#### iYali4"
   ]
  },
  {
   "cell_type": "code",
   "execution_count": 11,
   "metadata": {},
   "outputs": [
    {
     "name": "stderr",
     "output_type": "stream",
     "text": [
      "No objective in listOfObjectives\n",
      "No objective coefficients in model. Unclear what should be optimized\n"
     ]
    }
   ],
   "source": [
    "# load model\n",
    "iYali4 = cobra.io.read_sbml_model(corr_model_dict['iYali4'])"
   ]
  },
  {
   "cell_type": "code",
   "execution_count": 12,
   "metadata": {},
   "outputs": [
    {
     "name": "stdout",
     "output_type": "stream",
     "text": [
      "yeast 5 biomass pseudoreaction 2110\n",
      "growth 2111\n",
      "yeast 6 biomass pseudoreaction 2133\n",
      "yeast 8 biomass pseudoreaction 4041\n",
      "Non-growth associated maintenance (NGAM) xMAINTENANCE\n",
      "xBIOMASS xBIOMASS\n",
      "biomass_C biomass_C\n"
     ]
    }
   ],
   "source": [
    "with iYali4 as model:\n",
    "    find_biomass_or_growth_reactions(model)"
   ]
  },
  {
   "cell_type": "code",
   "execution_count": 34,
   "metadata": {},
   "outputs": [
    {
     "name": "stdout",
     "output_type": "stream",
     "text": [
      "Metabolites for the reaction: xBIOMASS (id: xBIOMASS)\n",
      "H2O[cy] (m32): -86.7881\n",
      "AMP[cy] (m86): -0.0757\n",
      "dAMP[cy] (m89): -0.0383\n",
      "GMP[cy] (m93): -0.093\n",
      "CMP[cy] (m95): -0.0578\n",
      "ATP[cy] (m141): -86.7881\n",
      "UMP[cy] (m149): -0.0623\n",
      "trehalose[cy] (m294): -0.0032\n",
      "chitin_H2O(C8H13NO5)n[cy] (m401): -0.4068\n",
      "dCMP[cy] (m459): -0.0377\n",
      "dGMP[cy] (m465): -0.0377\n",
      "dTMP[cy] (m505): -0.0383\n",
      "(1-3)-beta-D-glucan[cy] (m1123): -0.4415\n",
      "mannan[cy] (m1324): -0.1104\n",
      "protein[cy] (m1726): -1.0\n",
      "lipids[cy] (m1727): -1.0\n",
      "H+_p+1[cy] (m10): 86.7881\n",
      "phosphate[cy] (m35): 86.7881\n",
      "ADP[cy] (m143): 86.7881\n",
      "biomass[cy] (m1401): 1.0\n"
     ]
    },
    {
     "data": {
      "text/plain": [
       "True"
      ]
     },
     "execution_count": 34,
     "metadata": {},
     "output_type": "execute_result"
    }
   ],
   "source": [
    "## investigate xBIOMASS\n",
    "metabolites_print(iYali4, 'xBIOMASS') # ATP (id: m141) -86.7881"
   ]
  },
  {
   "cell_type": "code",
   "execution_count": 28,
   "metadata": {},
   "outputs": [
    {
     "name": "stdout",
     "output_type": "stream",
     "text": [
      "Growth rate on 2.43 mmol/h glucose: 0.21241122007295252\n",
      "Growth rate on 0.64 mmol/h glucose: 0.05594369582168275\n"
     ]
    }
   ],
   "source": [
    "# check results for simulation on 2.43 mmol glucose gDW/h 0.64 and 0.61 respectively\n",
    "# ## get glucose reaction => D-glucose exchange (id): 1714\n",
    "# for rxn in iYali4.reactions:\n",
    "#     if 'glucose' in rxn.name.lower():\n",
    "#         print(rxn.name, rxn.id)\n",
    "\n",
    "# find experimental data\n",
    "yli_glucose_uptake = [2.43, 0.64] # from Guo et al. 2020\n",
    "yli_experimental_growth = [0.26, 0.048]\n",
    "\n",
    "# set objective: \n",
    "iYali4.objective = 'xBIOMASS'\n",
    "\n",
    "# set glucose uptake\n",
    "glucose_exchange_reaction = '1714'\n",
    "biomass_reaction = 'xBIOMASS'\n",
    "\n",
    "# set conditions + simulate\n",
    "iYali4_simulation_growth = []\n",
    "for condition in yli_glucose_uptake:\n",
    "    with iYali4 as model:\n",
    "        dGlu = model.reactions.get_by_id(glucose_exchange_reaction)\n",
    "        dGlu.bounds = (-condition, 1000)\n",
    "        try:\n",
    "            pfba_solution = pfba(model)\n",
    "            growthRate = pfba_solution.fluxes[biomass_reaction]\n",
    "        except:\n",
    "            growthRate = 0\n",
    "        iYali4_simulation_growth.append(growthRate)\n",
    "        print(f'Growth rate on {condition} mmol/h glucose: {growthRate}')\n",
    "\n",
    "# results from Guo et al. 2020 are not done with objective either"
   ]
  },
  {
   "cell_type": "code",
   "execution_count": 14,
   "metadata": {},
   "outputs": [
    {
     "data": {
      "text/html": [
       "\n",
       "        <table>\n",
       "            <tr>\n",
       "                <td><strong>Reaction identifier</strong></td><td>2111</td>\n",
       "            </tr><tr>\n",
       "                <td><strong>Name</strong></td><td>growth</td>\n",
       "            </tr><tr>\n",
       "                <td><strong>Memory address</strong></td>\n",
       "                <td>0x29fa47fa0</td>\n",
       "            </tr><tr>\n",
       "                <td><strong>Stoichiometry</strong></td>\n",
       "                <td>\n",
       "                    <p style='text-align:right'>m1401 --></p>\n",
       "                    <p style='text-align:right'>biomass[cy] --></p>\n",
       "                </td>\n",
       "            </tr><tr>\n",
       "                <td><strong>GPR</strong></td><td></td>\n",
       "            </tr><tr>\n",
       "                <td><strong>Lower bound</strong></td><td>0.0</td>\n",
       "            </tr><tr>\n",
       "                <td><strong>Upper bound</strong></td><td>1000.0</td>\n",
       "            </tr>\n",
       "        </table>\n",
       "        "
      ],
      "text/plain": [
       "<Reaction 2111 at 0x29fa47fa0>"
      ]
     },
     "execution_count": 14,
     "metadata": {},
     "output_type": "execute_result"
    }
   ],
   "source": [
    "## investigate growth reaction (id: 2111)\n",
    "iYali4.reactions.get_by_id('2111')"
   ]
  },
  {
   "attachments": {},
   "cell_type": "markdown",
   "metadata": {},
   "source": [
    "#### iMK735"
   ]
  },
  {
   "cell_type": "code",
   "execution_count": 15,
   "metadata": {},
   "outputs": [
    {
     "name": "stderr",
     "output_type": "stream",
     "text": [
      "No objective in listOfObjectives\n",
      "No objective coefficients in model. Unclear what should be optimized\n"
     ]
    }
   ],
   "source": [
    "# load model\n",
    "iMK735 = cobra.io.read_sbml_model(corr_model_dict['iMK735'])"
   ]
  },
  {
   "cell_type": "code",
   "execution_count": 16,
   "metadata": {},
   "outputs": [
    {
     "name": "stdout",
     "output_type": "stream",
     "text": [
      "biomass yarrowia 0.4% bal YL biomass_004\n",
      "biomass yarrowia 1.3% bal YL biomass_013\n",
      "biomass yarrowia 5.1% bal YL biomass_051\n",
      "biomass yarrowia 20% bal YL biomass_20\n",
      "biomass yarrowia 40% bal YL biomass_40\n",
      "biomass yarrowia 60% bal YL biomass_60\n",
      "biomass yarrowia 80% bal YL biomass_80\n",
      "biomass WOtag YL biomass_WOtag\n",
      "biomass WOtag and glycogen YL biomass_WOtG\n",
      "biomass_C biomass_C\n"
     ]
    }
   ],
   "source": [
    "with iMK735 as model:\n",
    "    find_biomass_or_growth_reactions(model)"
   ]
  },
  {
   "cell_type": "code",
   "execution_count": 18,
   "metadata": {},
   "outputs": [
    {
     "data": {
      "text/plain": [
       "{<Metabolite 13BDglcn[c] at 0x2a61c0370>: -1.16963,\n",
       " <Metabolite ala_L[c] at 0x2a61df6a0>: -0.47277,\n",
       " <Metabolite amp[c] at 0x2a61dfa30>: -0.0474,\n",
       " <Metabolite arg_L[c] at 0x2a61dfd30>: -0.16559,\n",
       " <Metabolite asn_L[c] at 0x2a61dfe50>: -0.1048,\n",
       " <Metabolite asp_L[c] at 0x2a61dff40>: -0.30656,\n",
       " <Metabolite atp[c] at 0x2a61df160>: -17.05,\n",
       " <Metabolite cmp[c] at 0x2a61e1940>: -0.04606,\n",
       " <Metabolite cys_L[c] at 0x2a61e1dc0>: -0.0068,\n",
       " <Metabolite damp[c] at 0x2a61e1040>: -0.00371,\n",
       " <Metabolite dcmp[c] at 0x2a61ea310>: -0.00247,\n",
       " <Metabolite dgmp[c] at 0x2a61ea730>: -0.00247,\n",
       " <Metabolite dtmp[c] at 0x2a61ead90>: -0.00371,\n",
       " <Metabolite ergst[c] at 0x2a61f4130>: -0.00072,\n",
       " <Metabolite gln_L[c] at 0x2a61f4d60>: -0.10861,\n",
       " <Metabolite glu_L[c] at 0x2a61f4ee0>: -0.31099,\n",
       " <Metabolite gly[c] at 0x2a61ff130>: -0.29924,\n",
       " <Metabolite glycogen[c] at 0x2a61ff2b0>: -0.53429,\n",
       " <Metabolite gmp[c] at 0x2a61ff310>: -0.0474,\n",
       " <Metabolite h2o[c] at 0x2a61ff670>: -17.05,\n",
       " <Metabolite his_L[c] at 0x2a61ffeb0>: -0.06832,\n",
       " <Metabolite ile_L[c] at 0x2a620a3d0>: -0.19857,\n",
       " <Metabolite leu_L[c] at 0x2a620aa60>: -0.30543,\n",
       " <Metabolite lys_L[c] at 0x2a620ac10>: -0.29492,\n",
       " <Metabolite mannan[c] at 0x2a620a190>: -0.8325,\n",
       " <Metabolite met_L[c] at 0x2a62141c0>: -0.05224,\n",
       " <Metabolite pa_SC[c] at 0x2a621e5b0>: -1e-05,\n",
       " <Metabolite pc_SC[c] at 0x2a621e880>: -6e-05,\n",
       " <Metabolite pe_SC[c] at 0x2a621e8e0>: -5e-05,\n",
       " <Metabolite phe_L[c] at 0x2a621eac0>: -0.13798,\n",
       " <Metabolite pro_L[c] at 0x2a622a100>: -0.16972,\n",
       " <Metabolite ps_SC[c] at 0x2a622a2b0>: -2e-05,\n",
       " <Metabolite ptd1ino_SC[c] at 0x2a622a490>: -5e-05,\n",
       " <Metabolite ser_L[c] at 0x2a622ac40>: -0.19105,\n",
       " <Metabolite so4[c] at 0x2a622ad90>: -0.02061,\n",
       " <Metabolite thr_L[c] at 0x2a62345b0>: -0.19723,\n",
       " <Metabolite tre[c] at 0x2a62348b0>: -0.02441,\n",
       " <Metabolite triglyc_SC[c] at 0x2a6234940>: -0.00016,\n",
       " <Metabolite trp_L[c] at 0x2a62340a0>: -0.02926,\n",
       " <Metabolite tyr_L[c] at 0x2a623f2e0>: -0.10511,\n",
       " <Metabolite ump[c] at 0x2a623f4f0>: -0.06172,\n",
       " <Metabolite val_L[c] at 0x2a623f700>: -0.27266,\n",
       " <Metabolite zymst[c] at 0x2a623fa60>: -0.00155,\n",
       " <Metabolite adp[c] at 0x2a61df250>: 17.05,\n",
       " <Metabolite h[c] at 0x2a61ff850>: 17.05,\n",
       " <Metabolite pi[c] at 0x2a621ec70>: 17.05}"
      ]
     },
     "execution_count": 18,
     "metadata": {},
     "output_type": "execute_result"
    }
   ],
   "source": [
    "## investigate biomass_013\n",
    "iMK735.reactions.get_by_id('biomass_013').metabolites # => atp: -17.05"
   ]
  }
 ],
 "metadata": {
  "kernelspec": {
   "display_name": "venv",
   "language": "python",
   "name": "venv"
  },
  "language_info": {
   "codemirror_mode": {
    "name": "ipython",
    "version": 3
   },
   "file_extension": ".py",
   "mimetype": "text/x-python",
   "name": "python",
   "nbconvert_exporter": "python",
   "pygments_lexer": "ipython3",
   "version": "3.8.16"
  },
  "orig_nbformat": 4
 },
 "nbformat": 4,
 "nbformat_minor": 2
}
