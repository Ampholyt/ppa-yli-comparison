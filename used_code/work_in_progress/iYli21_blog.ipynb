{
 "cells": [
  {
   "cell_type": "markdown",
   "metadata": {},
   "source": [
    "# Blog-Post about genome-scale metabolic modeling\n",
    "This Blog-post is an introduction into genome-scale metabolic models (GSMMs). For this purpose the model iYli21 is used. How to interact with these models is implemented in the following notebook using a python framework for Constraint-based Reconstruction and Analysis (COBRA) called COBRApy.\n",
    "\n",
    "At first the imports and setup is presented. Afterwards it is shown that a model consists of reactions, metabolies and genes. To get an intuition how this information could be used in practice there is a short example of how to skim through the components and build a table from this information. The model presentation is followed by a simulation. So the implementation of a flux balance analysis (FBA) is shown. The last part is about adding a pathway into the model. In this case the galactose pathway is added which is useful for the digestion of lignocellulosic biomass. \n",
    " "
   ]
  },
  {
   "cell_type": "markdown",
   "metadata": {},
   "source": [
    "## Table of contents:\n",
    "### 1. Set up and imports\n",
    "### 2. Presentation of the model (iYli21)\n",
    "### 3. Simulation of the model (FBA)\n",
    "### 4. Adding a Pathways (Galactose)"
   ]
  },
  {
   "cell_type": "markdown",
   "metadata": {},
   "source": [
    "### 1. Setup working directory and imports\n",
    "The next slot is for imports of python packages used and for the setup of the working directory"
   ]
  },
  {
   "cell_type": "code",
   "execution_count": 40,
   "metadata": {},
   "outputs": [],
   "source": [
    "from cobra.io import read_sbml_model, write_sbml_model # reading and writing\n",
    "from cobra import Reaction, Metabolite # for adding reactions and metabolites\n",
    "from cobra import manipulation # for gene knockout\n",
    "import pandas as pd # for dataframes\n",
    "### Set up working dir:\n",
    "wd = '../'\n",
    "outdir = 'output/'\n",
    "baseModel = 'iYli21_v1.xml'\n",
    "extendedModelName = 'iYli21_blog.xml'"
   ]
  },
  {
   "cell_type": "markdown",
   "metadata": {},
   "source": [
    "### 2. Presenting the model (iYli21)\n",
    "#### Outline:\n",
    "1. Reading a model\n",
    "2. Overview over model (metabolites, reactions and genes)\n",
    "3. Interactions of the components (From reaction to metabolites, from reaction to gene and from metabolite to reaction)\n",
    "4. Groups of reactions"
   ]
  },
  {
   "cell_type": "markdown",
   "metadata": {},
   "source": [
    "#### 1. Reading a model\n",
    "The next slot is how you read a model in sbml format into a variable."
   ]
  },
  {
   "cell_type": "code",
   "execution_count": 33,
   "metadata": {},
   "outputs": [],
   "source": [
    "# The function read_sbml_model reads the model from the path to the model which is given as parameter\n",
    "model2 = read_sbml_model(wd + baseModel)"
   ]
  },
  {
   "cell_type": "markdown",
   "metadata": {},
   "source": [
    "#### 2. Overview over the model (Metabolites, Reactions and Genes)\n",
    "The following slot shows how a model is represented in COBRApy and how to interact with them will be part of the following section.\n",
    "\n",
    "We start with the compoenents: A model in COBRApy consists of 3 dictionarys and one name.\n",
    "A reactions dictionary, a metabolites dictionary and a genes dictionary. They differ in the features stored."
   ]
  },
  {
   "cell_type": "code",
   "execution_count": 34,
   "metadata": {},
   "outputs": [
    {
     "name": "stdout",
     "output_type": "stream",
     "text": [
      "<class 'cobra.core.dictlist.DictList'>\n",
      "<class 'cobra.core.dictlist.DictList'>\n",
      "<class 'cobra.core.dictlist.DictList'>\n",
      "The Genome-scale model of Yarrowia lipolytica W29 has 2285 reactions, 1868 metabolites and 1058 genes\n"
     ]
    }
   ],
   "source": [
    "# Show the types of the model components\n",
    "print(type(model2.reactions))\n",
    "print(type(model2.metabolites))\n",
    "print(type(model2.genes))\n",
    "# investigate number of metabolites, reactions and genes\n",
    "modelName = model2.name\n",
    "reacNum = len(model2.reactions)\n",
    "metaboNum = len(model2.metabolites)\n",
    "geneNum = len(model2.genes)\n",
    "\n",
    "print('The {name} has {reacNum} reactions, {metaboNum} metabolites and {geneNum} genes'.format(name=modelName, reacNum=reacNum, metaboNum=metaboNum, geneNum=geneNum))\n"
   ]
  },
  {
   "cell_type": "markdown",
   "metadata": {},
   "source": [
    "In the following section the features of reactions, metabolites and genes will be shown. As you can see one metabolite is part of many reactions.\n",
    "Each reaction has a name and an identifier as well as an Stoichiometry and a so called gene_protein_rule short GPR. \n",
    "The last two features are the lower and upper bound. \n",
    "\n",
    "For example the reaction glucose-6-phosphate isomerase has the id R326 and is responsible for the transfer of D-glucose-6-phosphate into D-fructose-6-phosphate. It is regulated from the gene YALI1F11049g and -1000.0 and 1000.0 are the lower and upper bounds, respectively. If the lower bound is negative it means it is reversible.\n",
    "\n",
    "Each dictionary (reactions, metabolites and genes) has a function called get_by_id() which needs an id and returns the corresponding reaction, metabolite or gene, respectively. "
   ]
  },
  {
   "cell_type": "code",
   "execution_count": 35,
   "metadata": {},
   "outputs": [
    {
     "data": {
      "text/html": [
       "\n",
       "        <table>\n",
       "            <tr>\n",
       "                <td><strong>Reaction identifier</strong></td><td>R326</td>\n",
       "            </tr><tr>\n",
       "                <td><strong>Name</strong></td><td>glucose-6-phosphate isomerase</td>\n",
       "            </tr><tr>\n",
       "                <td><strong>Memory address</strong></td>\n",
       "                <td>0x7f9e49899dc0</td>\n",
       "            </tr><tr>\n",
       "                <td><strong>Stoichiometry</strong></td>\n",
       "                <td>\n",
       "                    <p style='text-align:right'>m296[C_cy] <=> m166[C_cy]</p>\n",
       "                    <p style='text-align:right'>D-glucose 6-phosphate_C6H13O9P <=> D-fructose 6-phosphate_C6H11O9P</p>\n",
       "                </td>\n",
       "            </tr><tr>\n",
       "                <td><strong>GPR</strong></td><td>YALI1F11049g</td>\n",
       "            </tr><tr>\n",
       "                <td><strong>Lower bound</strong></td><td>-1000.0</td>\n",
       "            </tr><tr>\n",
       "                <td><strong>Upper bound</strong></td><td>1000.0</td>\n",
       "            </tr>\n",
       "        </table>\n",
       "        "
      ],
      "text/plain": [
       "<Reaction R326 at 0x7f9e49899dc0>"
      ]
     },
     "execution_count": 35,
     "metadata": {},
     "output_type": "execute_result"
    }
   ],
   "source": [
    "# Show the features of one reaction\n",
    "model2.reactions.get_by_id('R326')"
   ]
  },
  {
   "cell_type": "markdown",
   "metadata": {},
   "source": [
    "The metabolite D-glucose 6-phosphate has the id m296[C_cy] and is part of the C_cy (an abbrevision for cytoplasma) compartment. The feature formula should be used for the chemical formula of the metabolite. In this model it was not used this could be a reason why memots identied problems. The last feature for metabolites is a list of reactions which it is part of. The following metabolite is part of 7 reactions.\n"
   ]
  },
  {
   "cell_type": "code",
   "execution_count": 36,
   "metadata": {},
   "outputs": [
    {
     "data": {
      "text/html": [
       "\n",
       "        <table>\n",
       "            <tr>\n",
       "                <td><strong>Metabolite identifier</strong></td><td>m296[C_cy]</td>\n",
       "            </tr><tr>\n",
       "                <td><strong>Name</strong></td><td>D-glucose 6-phosphate_C6H13O9P</td>\n",
       "            </tr><tr>\n",
       "                <td><strong>Memory address</strong></td>\n",
       "                <td>0x7f9e7bbb6af0</td>\n",
       "            </tr><tr>\n",
       "                <td><strong>Formula</strong></td><td></td>\n",
       "            </tr><tr>\n",
       "                <td><strong>Compartment</strong></td><td>C_cy</td>\n",
       "            </tr><tr>\n",
       "                <td><strong>In 7 reaction(s)</strong></td><td>\n",
       "                    R325, R1988, R143, R638, R326, R387, R559\n",
       "                    </td>\n",
       "            </tr>\n",
       "        </table>"
      ],
      "text/plain": [
       "<Metabolite m296[C_cy] at 0x7f9e7bbb6af0>"
      ]
     },
     "execution_count": 36,
     "metadata": {},
     "output_type": "execute_result"
    }
   ],
   "source": [
    "# Show the features of one metabolite\n",
    "model2.metabolites.get_by_id('m296[C_cy]')"
   ]
  },
  {
   "cell_type": "markdown",
   "metadata": {},
   "source": [
    "A gene has dispite a name and an identifier two features. The functional feature shows if the genes is active (True) or knocked out (False). A list of reactions this gene regulates is the last feature."
   ]
  },
  {
   "cell_type": "code",
   "execution_count": 37,
   "metadata": {},
   "outputs": [
    {
     "data": {
      "text/html": [
       "\n",
       "        <table>\n",
       "            <tr>\n",
       "                <td><strong>Gene identifier</strong></td><td>YALI1F11049g</td>\n",
       "            </tr><tr>\n",
       "                <td><strong>Name</strong></td><td>COBRAProtein360</td>\n",
       "            </tr><tr>\n",
       "                <td><strong>Memory address</strong></td>\n",
       "                <td>0x7f9e6bb0b940</td>\n",
       "            </tr><tr>\n",
       "                <td><strong>Functional</strong></td><td>True</td>\n",
       "            </tr><tr>\n",
       "                <td><strong>In 1 reaction(s)</strong></td><td>\n",
       "                    R326\n",
       "                    </td>\n",
       "            </tr>\n",
       "        </table>"
      ],
      "text/plain": [
       "<Gene YALI1F11049g at 0x7f9e6bb0b940>"
      ]
     },
     "execution_count": 37,
     "metadata": {},
     "output_type": "execute_result"
    }
   ],
   "source": [
    "# Show the features of one gene\n",
    "model2.genes.get_by_id('YALI1F11049g')"
   ]
  },
  {
   "cell_type": "markdown",
   "metadata": {},
   "source": [
    "The summary of a model shows the used objective, which metabolites as well as reactions are used as uptake reactions and which metabolites are secreted. The corresponding fluxes are also mentioned."
   ]
  },
  {
   "cell_type": "code",
   "execution_count": 38,
   "metadata": {},
   "outputs": [
    {
     "name": "stdout",
     "output_type": "stream",
     "text": [
      "Objective\n",
      "=========\n",
      "1.0 biomass_C = 0.2827037239904458\n",
      "\n",
      "Uptake\n",
      "------\n",
      " Metabolite Reaction    Flux  C-Number C-Flux\n",
      "m1031[C_ex]    R1016    1.91         0  0.00%\n",
      " m511[C_ex]    R1070    2.43         0  0.00%\n",
      " m342[C_ex]    R1164   3.875         0  0.00%\n",
      "m1339[C_ex]    R1287   5.057         0  0.00%\n",
      " m215[C_ex]    R1296 0.01286         0  0.00%\n",
      "m1113[C_ex]    R1333 0.01919         0  0.00%\n",
      "\n",
      "Secretion\n",
      "---------\n",
      " Metabolite Reaction    Flux  C-Number C-Flux\n",
      "m1176[C_ex]    R1030  -5.042         0  0.00%\n",
      " m214[C_ex]    R1364  -16.63         0  0.00%\n",
      "m1401[C_cy]    R1373 -0.2827         0  0.00%\n",
      "\n"
     ]
    }
   ],
   "source": [
    "# model summary \n",
    "print(model2.summary())"
   ]
  },
  {
   "cell_type": "markdown",
   "metadata": {},
   "source": [
    "#### 3. Interactions of the model components (metabolites, reactions, genes)\n",
    "In the following section I want to show how the parts of the model are connected.\n",
    "For this purpose it is shown how to gain insights into the model by just building tables.\n",
    "\n",
    "First, we want to build a table for all the reactions and its interacting components. \n",
    "We aim for the table to have the following columns: \n",
    "\n",
    "###### reactionId, reactionStoichiometry (formula of the reactions with the corresponding stoichiometric values), metaboliteIds, geneIds"
   ]
  },
  {
   "cell_type": "code",
   "execution_count": 48,
   "metadata": {},
   "outputs": [],
   "source": [
    "# useful functions for interacting with metabolite, gene or reaction lists\n",
    "def getIds(elementList):\n",
    "    '''Returns the ids of an element list (list of genes, reactions or metabolites'''\n",
    "    return [elem.id for elem in elementList]\n",
    "\n",
    "def getNames(elementList):\n",
    "    '''Returns the names of the elemts in the given list (list of genes, reactions or metabolites'''\n",
    "    return [elem.name for elem in elementList]"
   ]
  },
  {
   "cell_type": "code",
   "execution_count": 55,
   "metadata": {},
   "outputs": [
    {
     "data": {
      "text/html": [
       "<div>\n",
       "<style scoped>\n",
       "    .dataframe tbody tr th:only-of-type {\n",
       "        vertical-align: middle;\n",
       "    }\n",
       "\n",
       "    .dataframe tbody tr th {\n",
       "        vertical-align: top;\n",
       "    }\n",
       "\n",
       "    .dataframe thead th {\n",
       "        text-align: right;\n",
       "    }\n",
       "</style>\n",
       "<table border=\"1\" class=\"dataframe\">\n",
       "  <thead>\n",
       "    <tr style=\"text-align: right;\">\n",
       "      <th></th>\n",
       "      <th>reactionId</th>\n",
       "      <th>reactionStoichimetry</th>\n",
       "      <th>metaboliteIds</th>\n",
       "      <th>geneIds</th>\n",
       "    </tr>\n",
       "  </thead>\n",
       "  <tbody>\n",
       "    <tr>\n",
       "      <th>0</th>\n",
       "      <td>R1</td>\n",
       "      <td>m1[C_cy] + 2.0 m2[C_mi] --&gt; 2.0 m3[C_mi] + m4[...</td>\n",
       "      <td>[m1[C_cy], m2[C_mi], m3[C_mi], m4[C_cy]]</td>\n",
       "      <td>[YALI1E03870g, YALI1D11769g, YALI1C08548g]</td>\n",
       "    </tr>\n",
       "    <tr>\n",
       "      <th>1</th>\n",
       "      <td>R2</td>\n",
       "      <td>2.0 m2[C_mi] + m5[C_mi] --&gt; 2.0 m3[C_mi] + m6[...</td>\n",
       "      <td>[m2[C_mi], m5[C_mi], m3[C_mi], m6[C_mi]]</td>\n",
       "      <td>[YALI1E03870g, YALI1D11769g]</td>\n",
       "    </tr>\n",
       "    <tr>\n",
       "      <th>2</th>\n",
       "      <td>R3</td>\n",
       "      <td>2.0 m2[C_mi] + m7[C_cy] --&gt; 2.0 m3[C_mi] + m4[...</td>\n",
       "      <td>[m2[C_mi], m7[C_cy], m3[C_mi], m4[C_cy]]</td>\n",
       "      <td>[YALI1E03870g, YALI1D11769g]</td>\n",
       "    </tr>\n",
       "    <tr>\n",
       "      <th>3</th>\n",
       "      <td>R4</td>\n",
       "      <td>m8[C_cy] --&gt; m10[C_cy] + m11[C_cy] + m9[C_en]</td>\n",
       "      <td>[m8[C_cy], m9[C_en], m10[C_cy], m11[C_cy]]</td>\n",
       "      <td>[YALI1E25018g, YALI1C01944g]</td>\n",
       "    </tr>\n",
       "    <tr>\n",
       "      <th>4</th>\n",
       "      <td>R5</td>\n",
       "      <td>m8[C_cy] --&gt; m10[C_cy] + m11[C_cy] + m12[C_en]</td>\n",
       "      <td>[m8[C_cy], m10[C_cy], m11[C_cy], m12[C_en]]</td>\n",
       "      <td>[YALI1C19943g]</td>\n",
       "    </tr>\n",
       "  </tbody>\n",
       "</table>\n",
       "</div>"
      ],
      "text/plain": [
       "  reactionId                               reactionStoichimetry  \\\n",
       "0         R1  m1[C_cy] + 2.0 m2[C_mi] --> 2.0 m3[C_mi] + m4[...   \n",
       "1         R2  2.0 m2[C_mi] + m5[C_mi] --> 2.0 m3[C_mi] + m6[...   \n",
       "2         R3  2.0 m2[C_mi] + m7[C_cy] --> 2.0 m3[C_mi] + m4[...   \n",
       "3         R4      m8[C_cy] --> m10[C_cy] + m11[C_cy] + m9[C_en]   \n",
       "4         R5     m8[C_cy] --> m10[C_cy] + m11[C_cy] + m12[C_en]   \n",
       "\n",
       "                                 metaboliteIds  \\\n",
       "0     [m1[C_cy], m2[C_mi], m3[C_mi], m4[C_cy]]   \n",
       "1     [m2[C_mi], m5[C_mi], m3[C_mi], m6[C_mi]]   \n",
       "2     [m2[C_mi], m7[C_cy], m3[C_mi], m4[C_cy]]   \n",
       "3   [m8[C_cy], m9[C_en], m10[C_cy], m11[C_cy]]   \n",
       "4  [m8[C_cy], m10[C_cy], m11[C_cy], m12[C_en]]   \n",
       "\n",
       "                                      geneIds  \n",
       "0  [YALI1E03870g, YALI1D11769g, YALI1C08548g]  \n",
       "1                [YALI1E03870g, YALI1D11769g]  \n",
       "2                [YALI1E03870g, YALI1D11769g]  \n",
       "3                [YALI1E25018g, YALI1C01944g]  \n",
       "4                              [YALI1C19943g]  "
      ]
     },
     "execution_count": 55,
     "metadata": {},
     "output_type": "execute_result"
    }
   ],
   "source": [
    "allReactions = model2.reactions\n",
    "reactionIds = []\n",
    "reactionStoichimetries = []\n",
    "metabolites = []\n",
    "geneIds = []\n",
    "# following code will use the function getIds() it is defined as usefunction at the beginning of this section\n",
    "for reaction in allReactions:\n",
    "    reactionIds.append(reaction.id)\n",
    "    reactionStoichimetries.append(reaction.reaction)\n",
    "    metabolites.append(getIds(reaction.metabolites))\n",
    "    geneIds.append(getIds(reaction.genes))\n",
    "\n",
    "# gathering information into a dataframe    \n",
    "zipped = zip(reactionIds, reactionStoichimetries, metabolites, geneIds)\n",
    "overviewDataframe = pd.DataFrame(zipped, columns=[\"reactionId\", \"reactionStoichimetry\", \"metaboliteIds\", \"geneIds\"])\n",
    "overviewDataframe.head()"
   ]
  },
  {
   "cell_type": "markdown",
   "metadata": {},
   "source": [
    "Now we can extend this table with the reaction name, the names of the metabolites and the genes. Why should we do this?\n",
    "Because it is useful to have a searchable table of the reactions, metabolites and gene names and ids. With this information you will find specific metabolites or reactions much faster.\n",
    "For example, if you try to integrate a new pathway it is very useful to know which of the corresponding metabolites are already part of your model. \n",
    "So you will have a tabe which includes names one can query on one hand and the corresponding id's to interact with these components on the other hand.\n",
    "We will extend the aforementioned table and add the following columns:\n",
    "\n",
    "###### reactionName, metaboliteName, geneName"
   ]
  },
  {
   "cell_type": "code",
   "execution_count": 60,
   "metadata": {},
   "outputs": [
    {
     "data": {
      "text/html": [
       "<div>\n",
       "<style scoped>\n",
       "    .dataframe tbody tr th:only-of-type {\n",
       "        vertical-align: middle;\n",
       "    }\n",
       "\n",
       "    .dataframe tbody tr th {\n",
       "        vertical-align: top;\n",
       "    }\n",
       "\n",
       "    .dataframe thead th {\n",
       "        text-align: right;\n",
       "    }\n",
       "</style>\n",
       "<table border=\"1\" class=\"dataframe\">\n",
       "  <thead>\n",
       "    <tr style=\"text-align: right;\">\n",
       "      <th></th>\n",
       "      <th>reactionId</th>\n",
       "      <th>reactionNames</th>\n",
       "      <th>reactionStoichimetry</th>\n",
       "      <th>metaboliteIds</th>\n",
       "      <th>metaboliteNames</th>\n",
       "      <th>geneIds</th>\n",
       "      <th>geneNames</th>\n",
       "    </tr>\n",
       "  </thead>\n",
       "  <tbody>\n",
       "    <tr>\n",
       "      <th>0</th>\n",
       "      <td>R1</td>\n",
       "      <td>(R)-lactate:ferricytochrome-c 2-oxidoreductase</td>\n",
       "      <td>m1[C_cy] + 2.0 m2[C_mi] --&gt; 2.0 m3[C_mi] + m4[...</td>\n",
       "      <td>[m1[C_cy], m2[C_mi], m3[C_mi], m4[C_cy]]</td>\n",
       "      <td>[(R)-lactate_C3H6O3, ferricytochrome c_, ferro...</td>\n",
       "      <td>[YALI1E03870g, YALI1D11769g, YALI1C08548g]</td>\n",
       "      <td>[COBRAProtein3, COBRAProtein2, COBRAProtein1]</td>\n",
       "    </tr>\n",
       "    <tr>\n",
       "      <th>1</th>\n",
       "      <td>R2</td>\n",
       "      <td>(R)-lactate:ferricytochrome-c 2-oxidoreductase</td>\n",
       "      <td>2.0 m2[C_mi] + m5[C_mi] --&gt; 2.0 m3[C_mi] + m6[...</td>\n",
       "      <td>[m2[C_mi], m5[C_mi], m3[C_mi], m6[C_mi]]</td>\n",
       "      <td>[ferricytochrome c_, (R)-lactate_C3H6O3, ferro...</td>\n",
       "      <td>[YALI1E03870g, YALI1D11769g]</td>\n",
       "      <td>[COBRAProtein3, COBRAProtein2]</td>\n",
       "    </tr>\n",
       "    <tr>\n",
       "      <th>2</th>\n",
       "      <td>R3</td>\n",
       "      <td>(S)-lactate:ferricytochrome-c 2-oxidoreductase</td>\n",
       "      <td>2.0 m2[C_mi] + m7[C_cy] --&gt; 2.0 m3[C_mi] + m4[...</td>\n",
       "      <td>[m2[C_mi], m7[C_cy], m3[C_mi], m4[C_cy]]</td>\n",
       "      <td>[ferricytochrome c_, (S)-lactate_C3H6O3, ferro...</td>\n",
       "      <td>[YALI1E03870g, YALI1D11769g]</td>\n",
       "      <td>[COBRAProtein3, COBRAProtein2]</td>\n",
       "    </tr>\n",
       "    <tr>\n",
       "      <th>3</th>\n",
       "      <td>R4</td>\n",
       "      <td>1,3-beta-glucan synthase</td>\n",
       "      <td>m8[C_cy] --&gt; m10[C_cy] + m11[C_cy] + m9[C_en]</td>\n",
       "      <td>[m8[C_cy], m9[C_en], m10[C_cy], m11[C_cy]]</td>\n",
       "      <td>[UDP-D-glucose_C15H22N2O17P2, (1-3)-beta-D-glu...</td>\n",
       "      <td>[YALI1E25018g, YALI1C01944g]</td>\n",
       "      <td>[COBRAProtein5, COBRAProtein4]</td>\n",
       "    </tr>\n",
       "    <tr>\n",
       "      <th>4</th>\n",
       "      <td>R5</td>\n",
       "      <td>(1-6)-beta-glucan synthase</td>\n",
       "      <td>m8[C_cy] --&gt; m10[C_cy] + m11[C_cy] + m12[C_en]</td>\n",
       "      <td>[m8[C_cy], m10[C_cy], m11[C_cy], m12[C_en]]</td>\n",
       "      <td>[UDP-D-glucose_C15H22N2O17P2, H+_p+1, UDP_C9H1...</td>\n",
       "      <td>[YALI1C19943g]</td>\n",
       "      <td>[COBRAProtein6]</td>\n",
       "    </tr>\n",
       "  </tbody>\n",
       "</table>\n",
       "</div>"
      ],
      "text/plain": [
       "  reactionId                                   reactionNames  \\\n",
       "0         R1  (R)-lactate:ferricytochrome-c 2-oxidoreductase   \n",
       "1         R2  (R)-lactate:ferricytochrome-c 2-oxidoreductase   \n",
       "2         R3  (S)-lactate:ferricytochrome-c 2-oxidoreductase   \n",
       "3         R4                        1,3-beta-glucan synthase   \n",
       "4         R5                      (1-6)-beta-glucan synthase   \n",
       "\n",
       "                                reactionStoichimetry  \\\n",
       "0  m1[C_cy] + 2.0 m2[C_mi] --> 2.0 m3[C_mi] + m4[...   \n",
       "1  2.0 m2[C_mi] + m5[C_mi] --> 2.0 m3[C_mi] + m6[...   \n",
       "2  2.0 m2[C_mi] + m7[C_cy] --> 2.0 m3[C_mi] + m4[...   \n",
       "3      m8[C_cy] --> m10[C_cy] + m11[C_cy] + m9[C_en]   \n",
       "4     m8[C_cy] --> m10[C_cy] + m11[C_cy] + m12[C_en]   \n",
       "\n",
       "                                 metaboliteIds  \\\n",
       "0     [m1[C_cy], m2[C_mi], m3[C_mi], m4[C_cy]]   \n",
       "1     [m2[C_mi], m5[C_mi], m3[C_mi], m6[C_mi]]   \n",
       "2     [m2[C_mi], m7[C_cy], m3[C_mi], m4[C_cy]]   \n",
       "3   [m8[C_cy], m9[C_en], m10[C_cy], m11[C_cy]]   \n",
       "4  [m8[C_cy], m10[C_cy], m11[C_cy], m12[C_en]]   \n",
       "\n",
       "                                     metaboliteNames  \\\n",
       "0  [(R)-lactate_C3H6O3, ferricytochrome c_, ferro...   \n",
       "1  [ferricytochrome c_, (R)-lactate_C3H6O3, ferro...   \n",
       "2  [ferricytochrome c_, (S)-lactate_C3H6O3, ferro...   \n",
       "3  [UDP-D-glucose_C15H22N2O17P2, (1-3)-beta-D-glu...   \n",
       "4  [UDP-D-glucose_C15H22N2O17P2, H+_p+1, UDP_C9H1...   \n",
       "\n",
       "                                      geneIds  \\\n",
       "0  [YALI1E03870g, YALI1D11769g, YALI1C08548g]   \n",
       "1                [YALI1E03870g, YALI1D11769g]   \n",
       "2                [YALI1E03870g, YALI1D11769g]   \n",
       "3                [YALI1E25018g, YALI1C01944g]   \n",
       "4                              [YALI1C19943g]   \n",
       "\n",
       "                                       geneNames  \n",
       "0  [COBRAProtein3, COBRAProtein2, COBRAProtein1]  \n",
       "1                 [COBRAProtein3, COBRAProtein2]  \n",
       "2                 [COBRAProtein3, COBRAProtein2]  \n",
       "3                 [COBRAProtein5, COBRAProtein4]  \n",
       "4                                [COBRAProtein6]  "
      ]
     },
     "execution_count": 60,
     "metadata": {},
     "output_type": "execute_result"
    }
   ],
   "source": [
    "reactionNames = []\n",
    "metabolieNames = []\n",
    "geneNames = []\n",
    "\n",
    "# following code will use the function getNames() it is defined as usefunction at the beginning of this section\n",
    "for reaction in allReactions:\n",
    "    reactionNames.append(reaction.name)\n",
    "    metabolieNames.append(getNames(reaction.metabolites))\n",
    "    geneNames.append(getNames(reaction.genes))\n",
    "\n",
    "# insert information into the table/dataframe\n",
    "overviewDataframe[\"reactionNames\"] = reactionNames\n",
    "overviewDataframe[\"metaboliteNames\"] = metabolieNames\n",
    "overviewDataframe[\"geneNames\"] = geneNames\n",
    "# reorder the columns\n",
    "overviewDataframe = overviewDataframe[[\"reactionId\", \"reactionNames\", \"reactionStoichimetry\", \"metaboliteIds\", \"metaboliteNames\", \"geneIds\", \"geneNames\"]]\n",
    "overviewDataframe.to_csv(outdir + \"overviewDataframe.csv\", index=False)\n",
    "overviewDataframe.head()"
   ]
  },
  {
   "cell_type": "markdown",
   "metadata": {},
   "source": [
    "It is not only possible to get information about the metabolites from the reaction but also to find reaction information from the metabolies, as you can see in the following code block.\n",
    "\n",
    "\n",
    "We want to find the metabolite glucose and show the reactions it is part of.\n",
    "\n",
    "\n",
    "First of all we search in the table we just created and find the ids for D-glucose. There are different types of D-glucose but we are interested in D-glucose from the cytoplasm. For this model goes that the component of the model is shown in the id in brackets, in this case C_cy stands for cytoplasm. But this does not need to be the case in general."
   ]
  },
  {
   "cell_type": "code",
   "execution_count": 77,
   "metadata": {},
   "outputs": [
    {
     "name": "stdout",
     "output_type": "stream",
     "text": [
      "Number of reactions d-glucose is part of:  8\n",
      "D-gluose is part of the reactions with the following id: ['R851', 'R1930', 'R323', 'R2059', 'R2184', 'R1138', 'R142', 'R387'] and the following names: ['glucose transport', 'cellobiose glucohydrolase', 'glucan 1,4-alpha-glucosidase', 'glucose 1-dehydrogenase', '1,4-alpha-D-Glucan glucohydrolase', 'glucose transport, vacuolar', 'alpha,alpha-trehalase', 'hexokinase (D-glucose:ATP)']\n"
     ]
    }
   ],
   "source": [
    "dGlucose = model2.metabolites.get_by_id('m295[C_cy]')\n",
    "dgluReactions = getIds(dGlucose.reactions)\n",
    "print(\"Number of reactions d-glucose is part of: \", len(dgluReactions))\n",
    "reactionNames = getNames(dGlucose.reactions)\n",
    "print(f'D-gluose is part of the reactions with the following id: {dgluReactions} and the following names: {reactionNames}')"
   ]
  },
  {
   "cell_type": "markdown",
   "metadata": {},
   "source": [
    "#### 4. Groups of reactions\n",
    "This section presents different groups of reactions which are included in the model and can help to get an overview or to order the reactions.\n",
    "These groups of reactions are interesting in terms of analysing specific aspects of the network."
   ]
  },
  {
   "cell_type": "code",
   "execution_count": 82,
   "metadata": {},
   "outputs": [
    {
     "data": {
      "text/html": [
       "<div>\n",
       "<style scoped>\n",
       "    .dataframe tbody tr th:only-of-type {\n",
       "        vertical-align: middle;\n",
       "    }\n",
       "\n",
       "    .dataframe tbody tr th {\n",
       "        vertical-align: top;\n",
       "    }\n",
       "\n",
       "    .dataframe thead th {\n",
       "        text-align: right;\n",
       "    }\n",
       "</style>\n",
       "<table border=\"1\" class=\"dataframe\">\n",
       "  <thead>\n",
       "    <tr style=\"text-align: right;\">\n",
       "      <th></th>\n",
       "      <th>groupName</th>\n",
       "    </tr>\n",
       "  </thead>\n",
       "  <tbody>\n",
       "    <tr>\n",
       "      <th>0</th>\n",
       "      <td>ATPase</td>\n",
       "    </tr>\n",
       "    <tr>\n",
       "      <th>1</th>\n",
       "      <td>Alanine, aspartate and glutamate metabolism</td>\n",
       "    </tr>\n",
       "    <tr>\n",
       "      <th>2</th>\n",
       "      <td>Alkane metabolism</td>\n",
       "    </tr>\n",
       "    <tr>\n",
       "      <th>3</th>\n",
       "      <td>Amino acid metabolism</td>\n",
       "    </tr>\n",
       "    <tr>\n",
       "      <th>4</th>\n",
       "      <td>Amino sugar and nucleotide sugar metabolism</td>\n",
       "    </tr>\n",
       "  </tbody>\n",
       "</table>\n",
       "</div>"
      ],
      "text/plain": [
       "                                     groupName\n",
       "0                                       ATPase\n",
       "1  Alanine, aspartate and glutamate metabolism\n",
       "2                            Alkane metabolism\n",
       "3                        Amino acid metabolism\n",
       "4  Amino sugar and nucleotide sugar metabolism"
      ]
     },
     "execution_count": 82,
     "metadata": {},
     "output_type": "execute_result"
    }
   ],
   "source": [
    "groups = model2.groups\n",
    "groupNames = getNames(groups)\n",
    "groupDf = pd.DataFrame(groupNames, columns=[\"groupName\"])\n",
    "groupDf.head()"
   ]
  },
  {
   "cell_type": "markdown",
   "metadata": {},
   "source": [
    "### 3. Simulation of a model (FBA)\n",
    "In the following slot the simulation of growth and its steps will be shown.\n",
    "\n",
    "#### Workflow:\n",
    "1. Investigate the environment\n",
    "2. Investigate the objective function\n",
    "3. Simulation and result interpretation"
   ]
  },
  {
   "cell_type": "markdown",
   "metadata": {},
   "source": [
    "As you can see we have a medium with uptake of differnt reaction with 1000 and one reaction (R1070) with 2.43. This reaction (R1070) is the glucose exchange reaction, which means that the glucose uptake of this cell is set to 2.43mmol. This leads to a growth rate of 0.283."
   ]
  },
  {
   "cell_type": "code",
   "execution_count": 86,
   "metadata": {},
   "outputs": [
    {
     "name": "stdout",
     "output_type": "stream",
     "text": [
      "The model medium looks like this:\n",
      " {'R1016': 1000.0, 'R1030': 1000.0, 'R1070': 2.43, 'R1164': 1000.0, 'R1189': 1000.0, 'R1287': 1000.0, 'R1296': 1000.0, 'R1298': 1000.0, 'R1323': 1000.0, 'R1333': 1000.0, 'R1364': 1000.0}\n",
      "The objective function looks like this:\n",
      " Maximize\n",
      "1.0*biomass_C - 1.0*biomass_C_reverse_c1d5c\n"
     ]
    },
    {
     "data": {
      "text/html": [
       "<strong><em>Optimal</em> solution with objective value 0.283</strong><br><div>\n",
       "<style scoped>\n",
       "    .dataframe tbody tr th:only-of-type {\n",
       "        vertical-align: middle;\n",
       "    }\n",
       "\n",
       "    .dataframe tbody tr th {\n",
       "        vertical-align: top;\n",
       "    }\n",
       "\n",
       "    .dataframe thead th {\n",
       "        text-align: right;\n",
       "    }\n",
       "</style>\n",
       "<table border=\"1\" class=\"dataframe\">\n",
       "  <thead>\n",
       "    <tr style=\"text-align: right;\">\n",
       "      <th></th>\n",
       "      <th>fluxes</th>\n",
       "      <th>reduced_costs</th>\n",
       "    </tr>\n",
       "  </thead>\n",
       "  <tbody>\n",
       "    <tr>\n",
       "      <th>R1</th>\n",
       "      <td>0.000000</td>\n",
       "      <td>-8.326673e-17</td>\n",
       "    </tr>\n",
       "    <tr>\n",
       "      <th>R2</th>\n",
       "      <td>0.000000</td>\n",
       "      <td>-8.066464e-17</td>\n",
       "    </tr>\n",
       "    <tr>\n",
       "      <th>R3</th>\n",
       "      <td>0.000000</td>\n",
       "      <td>-3.330746e-03</td>\n",
       "    </tr>\n",
       "    <tr>\n",
       "      <th>R4</th>\n",
       "      <td>0.266702</td>\n",
       "      <td>0.000000e+00</td>\n",
       "    </tr>\n",
       "    <tr>\n",
       "      <th>R5</th>\n",
       "      <td>0.000000</td>\n",
       "      <td>5.551115e-17</td>\n",
       "    </tr>\n",
       "    <tr>\n",
       "      <th>...</th>\n",
       "      <td>...</td>\n",
       "      <td>...</td>\n",
       "    </tr>\n",
       "    <tr>\n",
       "      <th>R2281</th>\n",
       "      <td>0.000000</td>\n",
       "      <td>0.000000e+00</td>\n",
       "    </tr>\n",
       "    <tr>\n",
       "      <th>R2282</th>\n",
       "      <td>0.000000</td>\n",
       "      <td>0.000000e+00</td>\n",
       "    </tr>\n",
       "    <tr>\n",
       "      <th>R2283</th>\n",
       "      <td>0.000000</td>\n",
       "      <td>2.775558e-17</td>\n",
       "    </tr>\n",
       "    <tr>\n",
       "      <th>R2284</th>\n",
       "      <td>0.000000</td>\n",
       "      <td>-5.551115e-17</td>\n",
       "    </tr>\n",
       "    <tr>\n",
       "      <th>R2285</th>\n",
       "      <td>0.000000</td>\n",
       "      <td>0.000000e+00</td>\n",
       "    </tr>\n",
       "  </tbody>\n",
       "</table>\n",
       "<p>2285 rows × 2 columns</p>\n",
       "</div>"
      ],
      "text/plain": [
       "<Solution 0.283 at 0x7f9e6c6ed550>"
      ]
     },
     "execution_count": 86,
     "metadata": {},
     "output_type": "execute_result"
    }
   ],
   "source": [
    "# 1. Investigate the environment\n",
    "print(\"The model medium looks like this:\\n\", model2.medium)\n",
    "# 2. Investigate the objective function\n",
    "print(\"The objective function looks like this:\\n\", model2.objective)\n",
    "# 3. Simulation and result interpretation\n",
    "model2.optimize() # glucose uptake of 2.43 leads to a growth rate of 0.283 "
   ]
  },
  {
   "cell_type": "markdown",
   "metadata": {},
   "source": [
    "### 4. Adding a pathway to the model\n",
    "The following section is about adding the abbility to utilize Galactose into Yarrowia lipolytica (iYli21).\n",
    "\n",
    "#### Workflow for adding a pathway\n",
    "1. Find informations about the pathway\n",
    "2. Add metabolites, reactions and genes\n",
    "3. Testing the pathway \n",
    "4. Writing the model\n",
    "\n",
    "#### 1. Find information about the pathway\n",
    "##### a. [Galactokinase](https://www.uniprot.org/uniprotkb/Q6CC28/entry)\n",
    "- formula: alpha-D-galactose + ATP = ADP + alpha-D-galactose 1-phosphate + H+\n",
    "\n",
    "##### b. [Galactose-1-phosphate uridylyltransferase](https://www.uniprot.org/uniprotkb/Q6C0K3/entry)\n",
    "- formula: alpha-D-galactose 1-phosphate + UDP-alpha-D-glucose = alpha-D-glucose 1-phosphate + UDP-alpha-D-galactose\n",
    "\n",
    "##### c. [UDP-glucose-4-Epimerase](https://www.uniprot.org/uniprotkb/Q6C4H2/entry)\n",
    "- formula: UDP-alpha-D-glucose = UDP-alpha-D-galactose\n",
    "\n",
    "##### d. External Alpha-D-Galactose, exchange and transport reaction\n",
    "- formula: / = alpha-D-galactose_external (exchange)\n",
    "- formula: alpha-D-galactose_external = alpha-D-galactose_internal (transport)"
   ]
  },
  {
   "cell_type": "markdown",
   "metadata": {},
   "source": [
    "#### 2. Add metabolites, reactions and genes\n",
    "##### 1. External Alpha-D-Galactose, exchange and transport reaction"
   ]
  },
  {
   "cell_type": "code",
   "execution_count": null,
   "metadata": {},
   "outputs": [],
   "source": [
    "# add external metabolite: \n",
    "dGalactose_ex = Metabolite(\n",
    "    'M_mccs_aDgalex',\n",
    "    formula='C6H12O6',\n",
    "    name='alpha-D-galactose',\n",
    "    compartment='C_ex')\n",
    "    \n",
    "# add exchange reaction \n",
    "reaction = Reaction('R_mccs_1')\n",
    "reaction.name = 'alpha-D-galactose exchange'\n",
    "reaction.lower_bound = 0.  # This is the default\n",
    "reaction.upper_bound = 1000.  # This is the default\n",
    "reaction.add_metabolites({\n",
    "    dGalactose_ex: -1.0,\n",
    "})\n",
    "model2.add_reactions([reaction])\n",
    "\n",
    "# add transport\n",
    "reaction = Reaction('R_mccs_2') \n",
    "reaction.name = 'alpha-D-galactose transport'\n",
    "reaction.lower_bound = -1000.  # Like arabinose transport\n",
    "reaction.upper_bound = 1000.  # This is the default\n",
    "alphaDgalactose = model2.metabolites.get_by_id('m544[C_cy]')\n",
    "reaction.add_metabolites({\n",
    "    dGalactose_ex: -1.0,\n",
    "    alphaDgalactose: 1.0,\n",
    "})\n",
    "model2.add_reactions([reaction])"
   ]
  },
  {
   "cell_type": "markdown",
   "metadata": {},
   "source": [
    "##### 2. [Galactokinase](https://www.uniprot.org/uniprotkb/Q6CC28/entry)\n",
    "alpha-D-galactose + ATP = ADP + alpha-D-galactose 1-phosphate + H+"
   ]
  },
  {
   "cell_type": "code",
   "execution_count": null,
   "metadata": {},
   "outputs": [],
   "source": [
    "## Take metabolites as they are\n",
    "alphaDgalactose = model2.metabolites.get_by_id('m544[C_cy]')\n",
    "alphaDgalactose1phosphate = model2.metabolites.get_by_id('m545[C_cy]')\n",
    "UDPalphaDglucose = model2.metabolites.get_by_id('m8[C_cy]')\n",
    "alphaDglucose1phosphate = model2.metabolites.get_by_id('m589[C_cy]')\n",
    "UDPalphaDgalactose = model2.metabolites.get_by_id('m546[C_cy]')\n",
    "ATP_cy = model2.metabolites.get_by_id('m141[C_cy]')\n",
    "ADP_cy = model2.metabolites.get_by_id('m143[C_cy]')\n",
    "h_plus = model2.metabolites.get_by_id('m10[C_cy]')\n",
    "\n",
    "### Galactokinase\n",
    "## Reaction alpha-D-galactose + ATP => alpha-D-galactose-1-phosphate + ADP\n",
    "\n",
    "reaction = Reaction('R_mccs_3') \n",
    "reaction.name = 'Galactokinase'\n",
    "reaction.lower_bound = 0.  # This is the default\n",
    "reaction.upper_bound = 1000.  # This is the default\n",
    "reaction.add_metabolites({\n",
    "    alphaDgalactose: -1.0,\n",
    "    ATP_cy: -1.0,\n",
    "    ADP_cy: 1.0,\n",
    "    alphaDgalactose1phosphate: 1.0,\n",
    "    h_plus: 1.0\n",
    "})\n",
    "reaction.reaction\n",
    "model2.add_reactions([reaction])"
   ]
  },
  {
   "cell_type": "markdown",
   "metadata": {},
   "source": [
    "##### 3. [Galactose-1-phosphate uridylyltransferase](https://www.uniprot.org/uniprotkb/Q6C0K3/entry)\n",
    "alpha-D-galactose 1-phosphate + UDP-alpha-D-glucose = alpha-D-glucose 1-phosphate + UDP-alpha-D-galactose"
   ]
  },
  {
   "cell_type": "code",
   "execution_count": null,
   "metadata": {},
   "outputs": [],
   "source": [
    "### Galactose-1-phosphate uridylyltransferase\n",
    "# alpha-D-galactose 1-phosphate + UDP-alpha-D-glucose = alpha-D-glucose 1-phosphate + UDP-alpha-D-galactose\n",
    "\n",
    "reaction = Reaction('R_mccs_4') \n",
    "reaction.name = 'Galactose-1-phosphate uridylyltransferase'\n",
    "reaction.lower_bound = 0.  # This is the default\n",
    "reaction.upper_bound = 1000.  # This is the default\n",
    "reaction.add_metabolites({\n",
    "    alphaDgalactose1phosphate: -1.0,\n",
    "    UDPalphaDglucose: -1.0,\n",
    "    alphaDglucose1phosphate: 1.0,\n",
    "    UDPalphaDgalactose: 1.0,\n",
    "})\n",
    "reaction.reaction\n",
    "model2.add_reactions([reaction])"
   ]
  },
  {
   "cell_type": "markdown",
   "metadata": {},
   "source": [
    "##### 4. [UDP-glucose-4-Epimerase](https://www.uniprot.org/uniprotkb/Q6C4H2/entry)\n",
    "UDP-alpha-D-glucose = UDP-alpha-D-galactose\n"
   ]
  },
  {
   "cell_type": "code",
   "execution_count": null,
   "metadata": {},
   "outputs": [],
   "source": [
    "### UDP-glucose-4-Epimerase\n",
    "## UDP-alpha-D-glucose = UDP-alpha-D-galactose\n",
    "\n",
    "reaction = Reaction('R_mccs_5') \n",
    "reaction.name = 'alpha-D-galactose exchange'\n",
    "reaction.lower_bound = -1000.  # This is the default\n",
    "reaction.upper_bound = 1000.  # This is the default\n",
    "reaction.add_metabolites({\n",
    "    UDPalphaDgalactose: -1.0,\n",
    "    UDPalphaDglucose: 1.0,\n",
    "})\n",
    "reaction.reaction\n",
    "model2.add_reactions([reaction])"
   ]
  },
  {
   "cell_type": "markdown",
   "metadata": {},
   "source": [
    "#### 3. Testing the pathway \n",
    "\n",
    "##### a. Set the other carbon uptakes equal to zero\n",
    "##### b. Set galactose uptake to a realistic value (2.43mmol/L)\n",
    "##### c. Simulate growth using FBA (with biomass as objective)"
   ]
  },
  {
   "cell_type": "code",
   "execution_count": null,
   "metadata": {},
   "outputs": [
    {
     "name": "stdout",
     "output_type": "stream",
     "text": [
      "glucose reaction bounds:  (-2.43, 1000.0)\n",
      "galactose reaction bounds:  (0.0, 1000.0)\n",
      "galactose reaction bounds:  (-2.43, 0.0)\n",
      "{'R1016': 1000.0, 'R1030': 1000.0, 'R1164': 1000.0, 'R1189': 1000.0, 'R1287': 1000.0, 'R1296': 1000.0, 'R1298': 1000.0, 'R1323': 1000.0, 'R1333': 1000.0, 'R1364': 1000.0, 'R_mccs_1': 2.43}\n",
      "<Solution 0.283 at 0x7f9e7ad6c280>\n",
      "glucose reaction bounds:  (-2.43, 0.0)\n",
      "{'R1016': 1000.0, 'R1030': 1000.0, 'R1070': 2.43, 'R1164': 1000.0, 'R1189': 1000.0, 'R1287': 1000.0, 'R1296': 1000.0, 'R1298': 1000.0, 'R1323': 1000.0, 'R1333': 1000.0, 'R1364': 1000.0}\n",
      "<Solution 0.283 at 0x7f9e7ad6c3a0>\n"
     ]
    }
   ],
   "source": [
    "# a. Set all the other influxes to zero (carbon sources)\n",
    "# Get glucse flux bounds and set them to zero\n",
    "glucoseReac = model2.reactions.get_by_id('R1070')\n",
    "print('glucose reaction bounds: ', glucoseReac.bounds) \n",
    "# set to null\n",
    "glucoseReac.bounds = (0.0,0.0)\n",
    "\n",
    "# b. galactose: R_mccs_1\n",
    "galactoseReac = model2.reactions.get_by_id('R_mccs_1')\n",
    "print('galactose reaction bounds: ', galactoseReac.bounds)\n",
    "# set the lower bound to -0,015795\n",
    "galactoseReac.bounds = (-2.43, 0.0)\n",
    "print('galactose reaction bounds: ', galactoseReac.bounds)\n",
    "\n",
    "# c. FBA (with biomass as objective)\n",
    "print(model2.medium)\n",
    "galactose = model2.optimize() # optimized value 0.283\n",
    "print(galactose)\n",
    "galactoseReac.bounds = (0.0,0.0)\n",
    "\n",
    "# d. compare to anouter carbon source (glucose)\n",
    "glucoseReac.bounds = (-2.43,0.0)\n",
    "print('glucose reaction bounds: ', glucoseReac.bounds) \n",
    "print(model2.medium)\n",
    "glucose = model2.optimize() # optimized value 0.283\n",
    "print(glucose)"
   ]
  },
  {
   "cell_type": "markdown",
   "metadata": {},
   "source": [
    "The result means, that with the uptake of 2.43 mmol of galactose the growth is equal to the growth with uptake of 2.43 mmol glucose. This is possible because both are sugars with six carbon atoms."
   ]
  },
  {
   "cell_type": "markdown",
   "metadata": {},
   "source": [
    "#### 4. Write model into sbml format"
   ]
  },
  {
   "cell_type": "code",
   "execution_count": null,
   "metadata": {},
   "outputs": [],
   "source": [
    "### write model in sbml format\n",
    "write_sbml_model(model2, outdir + extendedModelName)"
   ]
  }
 ],
 "metadata": {
  "kernelspec": {
   "display_name": "Python 3.9.12 ('base')",
   "language": "python",
   "name": "python3"
  },
  "language_info": {
   "codemirror_mode": {
    "name": "ipython",
    "version": 3
   },
   "file_extension": ".py",
   "mimetype": "text/x-python",
   "name": "python",
   "nbconvert_exporter": "python",
   "pygments_lexer": "ipython3",
   "version": "3.9.12"
  },
  "orig_nbformat": 4,
  "vscode": {
   "interpreter": {
    "hash": "f808095db662600df27c26c9aa4debdd3a3d48f6313ae260a66e492b445f07c3"
   }
  }
 },
 "nbformat": 4,
 "nbformat_minor": 2
}
